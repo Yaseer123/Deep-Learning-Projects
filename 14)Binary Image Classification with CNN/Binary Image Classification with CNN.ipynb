{
 "cells": [
  {
   "cell_type": "markdown",
   "id": "42deaeb3",
   "metadata": {},
   "source": [
    "# Step 1: Installation and Setup"
   ]
  },
  {
   "cell_type": "code",
   "execution_count": 1,
   "id": "eb356892",
   "metadata": {},
   "outputs": [
    {
     "name": "stdout",
     "output_type": "stream",
     "text": [
      "Requirement already satisfied: tensorflow in /Library/Frameworks/Python.framework/Versions/3.11/lib/python3.11/site-packages (2.13.0)\n",
      "Requirement already satisfied: tensorflow-macos==2.13.0 in /Library/Frameworks/Python.framework/Versions/3.11/lib/python3.11/site-packages (from tensorflow) (2.13.0)\n",
      "Requirement already satisfied: absl-py>=1.0.0 in /Library/Frameworks/Python.framework/Versions/3.11/lib/python3.11/site-packages (from tensorflow-macos==2.13.0->tensorflow) (1.4.0)\n",
      "Requirement already satisfied: astunparse>=1.6.0 in /Library/Frameworks/Python.framework/Versions/3.11/lib/python3.11/site-packages (from tensorflow-macos==2.13.0->tensorflow) (1.6.3)\n",
      "Requirement already satisfied: flatbuffers>=23.1.21 in /Library/Frameworks/Python.framework/Versions/3.11/lib/python3.11/site-packages (from tensorflow-macos==2.13.0->tensorflow) (23.5.26)\n",
      "Requirement already satisfied: gast<=0.4.0,>=0.2.1 in /Library/Frameworks/Python.framework/Versions/3.11/lib/python3.11/site-packages (from tensorflow-macos==2.13.0->tensorflow) (0.4.0)\n",
      "Requirement already satisfied: google-pasta>=0.1.1 in /Library/Frameworks/Python.framework/Versions/3.11/lib/python3.11/site-packages (from tensorflow-macos==2.13.0->tensorflow) (0.2.0)\n",
      "Requirement already satisfied: h5py>=2.9.0 in /Library/Frameworks/Python.framework/Versions/3.11/lib/python3.11/site-packages (from tensorflow-macos==2.13.0->tensorflow) (3.9.0)\n",
      "Requirement already satisfied: libclang>=13.0.0 in /Library/Frameworks/Python.framework/Versions/3.11/lib/python3.11/site-packages (from tensorflow-macos==2.13.0->tensorflow) (16.0.6)\n",
      "Requirement already satisfied: numpy<=1.24.3,>=1.22 in /Library/Frameworks/Python.framework/Versions/3.11/lib/python3.11/site-packages (from tensorflow-macos==2.13.0->tensorflow) (1.24.3)\n",
      "Requirement already satisfied: opt-einsum>=2.3.2 in /Library/Frameworks/Python.framework/Versions/3.11/lib/python3.11/site-packages (from tensorflow-macos==2.13.0->tensorflow) (3.3.0)\n",
      "Requirement already satisfied: packaging in /Users/yaseerarafatkhan/Library/Python/3.11/lib/python/site-packages (from tensorflow-macos==2.13.0->tensorflow) (23.1)\n",
      "Requirement already satisfied: protobuf!=4.21.0,!=4.21.1,!=4.21.2,!=4.21.3,!=4.21.4,!=4.21.5,<5.0.0dev,>=3.20.3 in /Library/Frameworks/Python.framework/Versions/3.11/lib/python3.11/site-packages (from tensorflow-macos==2.13.0->tensorflow) (4.24.3)\n",
      "Requirement already satisfied: setuptools in /Library/Frameworks/Python.framework/Versions/3.11/lib/python3.11/site-packages (from tensorflow-macos==2.13.0->tensorflow) (65.5.0)\n",
      "Requirement already satisfied: six>=1.12.0 in /Users/yaseerarafatkhan/Library/Python/3.11/lib/python/site-packages (from tensorflow-macos==2.13.0->tensorflow) (1.16.0)\n",
      "Requirement already satisfied: termcolor>=1.1.0 in /Library/Frameworks/Python.framework/Versions/3.11/lib/python3.11/site-packages (from tensorflow-macos==2.13.0->tensorflow) (2.3.0)\n",
      "Requirement already satisfied: typing-extensions<4.6.0,>=3.6.6 in /Library/Frameworks/Python.framework/Versions/3.11/lib/python3.11/site-packages (from tensorflow-macos==2.13.0->tensorflow) (4.5.0)\n",
      "Requirement already satisfied: wrapt>=1.11.0 in /Library/Frameworks/Python.framework/Versions/3.11/lib/python3.11/site-packages (from tensorflow-macos==2.13.0->tensorflow) (1.15.0)\n",
      "Requirement already satisfied: grpcio<2.0,>=1.24.3 in /Library/Frameworks/Python.framework/Versions/3.11/lib/python3.11/site-packages (from tensorflow-macos==2.13.0->tensorflow) (1.58.0)\n",
      "Requirement already satisfied: tensorboard<2.14,>=2.13 in /Library/Frameworks/Python.framework/Versions/3.11/lib/python3.11/site-packages (from tensorflow-macos==2.13.0->tensorflow) (2.13.0)\n",
      "Requirement already satisfied: tensorflow-estimator<2.14,>=2.13.0 in /Library/Frameworks/Python.framework/Versions/3.11/lib/python3.11/site-packages (from tensorflow-macos==2.13.0->tensorflow) (2.13.0)\n",
      "Requirement already satisfied: keras<2.14,>=2.13.1 in /Library/Frameworks/Python.framework/Versions/3.11/lib/python3.11/site-packages (from tensorflow-macos==2.13.0->tensorflow) (2.13.1)\n",
      "Requirement already satisfied: wheel<1.0,>=0.23.0 in /Library/Frameworks/Python.framework/Versions/3.11/lib/python3.11/site-packages (from astunparse>=1.6.0->tensorflow-macos==2.13.0->tensorflow) (0.41.2)\n",
      "Requirement already satisfied: google-auth<3,>=1.6.3 in /Library/Frameworks/Python.framework/Versions/3.11/lib/python3.11/site-packages (from tensorboard<2.14,>=2.13->tensorflow-macos==2.13.0->tensorflow) (2.23.0)\n",
      "Requirement already satisfied: google-auth-oauthlib<1.1,>=0.5 in /Library/Frameworks/Python.framework/Versions/3.11/lib/python3.11/site-packages (from tensorboard<2.14,>=2.13->tensorflow-macos==2.13.0->tensorflow) (1.0.0)\n",
      "Requirement already satisfied: markdown>=2.6.8 in /Library/Frameworks/Python.framework/Versions/3.11/lib/python3.11/site-packages (from tensorboard<2.14,>=2.13->tensorflow-macos==2.13.0->tensorflow) (3.4.4)\n",
      "Requirement already satisfied: requests<3,>=2.21.0 in /Library/Frameworks/Python.framework/Versions/3.11/lib/python3.11/site-packages (from tensorboard<2.14,>=2.13->tensorflow-macos==2.13.0->tensorflow) (2.31.0)\n",
      "Requirement already satisfied: tensorboard-data-server<0.8.0,>=0.7.0 in /Library/Frameworks/Python.framework/Versions/3.11/lib/python3.11/site-packages (from tensorboard<2.14,>=2.13->tensorflow-macos==2.13.0->tensorflow) (0.7.1)\n",
      "Requirement already satisfied: werkzeug>=1.0.1 in /Library/Frameworks/Python.framework/Versions/3.11/lib/python3.11/site-packages (from tensorboard<2.14,>=2.13->tensorflow-macos==2.13.0->tensorflow) (3.0.0)\n",
      "Requirement already satisfied: cachetools<6.0,>=2.0.0 in /Library/Frameworks/Python.framework/Versions/3.11/lib/python3.11/site-packages (from google-auth<3,>=1.6.3->tensorboard<2.14,>=2.13->tensorflow-macos==2.13.0->tensorflow) (5.3.1)\n",
      "Requirement already satisfied: pyasn1-modules>=0.2.1 in /Library/Frameworks/Python.framework/Versions/3.11/lib/python3.11/site-packages (from google-auth<3,>=1.6.3->tensorboard<2.14,>=2.13->tensorflow-macos==2.13.0->tensorflow) (0.3.0)\n",
      "Requirement already satisfied: rsa<5,>=3.1.4 in /Library/Frameworks/Python.framework/Versions/3.11/lib/python3.11/site-packages (from google-auth<3,>=1.6.3->tensorboard<2.14,>=2.13->tensorflow-macos==2.13.0->tensorflow) (4.9)\n",
      "Requirement already satisfied: urllib3<2.0 in /Library/Frameworks/Python.framework/Versions/3.11/lib/python3.11/site-packages (from google-auth<3,>=1.6.3->tensorboard<2.14,>=2.13->tensorflow-macos==2.13.0->tensorflow) (1.26.16)\n",
      "Requirement already satisfied: requests-oauthlib>=0.7.0 in /Library/Frameworks/Python.framework/Versions/3.11/lib/python3.11/site-packages (from google-auth-oauthlib<1.1,>=0.5->tensorboard<2.14,>=2.13->tensorflow-macos==2.13.0->tensorflow) (1.3.1)\n",
      "Requirement already satisfied: charset-normalizer<4,>=2 in /Library/Frameworks/Python.framework/Versions/3.11/lib/python3.11/site-packages (from requests<3,>=2.21.0->tensorboard<2.14,>=2.13->tensorflow-macos==2.13.0->tensorflow) (3.2.0)\n",
      "Requirement already satisfied: idna<4,>=2.5 in /Library/Frameworks/Python.framework/Versions/3.11/lib/python3.11/site-packages (from requests<3,>=2.21.0->tensorboard<2.14,>=2.13->tensorflow-macos==2.13.0->tensorflow) (3.4)\n",
      "Requirement already satisfied: certifi>=2017.4.17 in /Library/Frameworks/Python.framework/Versions/3.11/lib/python3.11/site-packages (from requests<3,>=2.21.0->tensorboard<2.14,>=2.13->tensorflow-macos==2.13.0->tensorflow) (2023.7.22)\n",
      "Requirement already satisfied: MarkupSafe>=2.1.1 in /Library/Frameworks/Python.framework/Versions/3.11/lib/python3.11/site-packages (from werkzeug>=1.0.1->tensorboard<2.14,>=2.13->tensorflow-macos==2.13.0->tensorflow) (2.1.3)\n",
      "Requirement already satisfied: pyasn1<0.6.0,>=0.4.6 in /Library/Frameworks/Python.framework/Versions/3.11/lib/python3.11/site-packages (from pyasn1-modules>=0.2.1->google-auth<3,>=1.6.3->tensorboard<2.14,>=2.13->tensorflow-macos==2.13.0->tensorflow) (0.5.0)\n",
      "Requirement already satisfied: oauthlib>=3.0.0 in /Library/Frameworks/Python.framework/Versions/3.11/lib/python3.11/site-packages (from requests-oauthlib>=0.7.0->google-auth-oauthlib<1.1,>=0.5->tensorboard<2.14,>=2.13->tensorflow-macos==2.13.0->tensorflow) (3.2.2)\n",
      "Note: you may need to restart the kernel to use updated packages.\n"
     ]
    }
   ],
   "source": [
    "pip install tensorflow"
   ]
  },
  {
   "cell_type": "code",
   "execution_count": 2,
   "id": "56a927ae",
   "metadata": {},
   "outputs": [
    {
     "name": "stdout",
     "output_type": "stream",
     "text": [
      "2.13.0\n"
     ]
    }
   ],
   "source": [
    "import tensorflow as tf\n",
    "print(tf.__version__)"
   ]
  },
  {
   "cell_type": "code",
   "execution_count": 3,
   "id": "9b71fa3a",
   "metadata": {},
   "outputs": [],
   "source": [
    "import numpy as np\n",
    "import pandas as pd\n",
    "import matplotlib.pyplot as plt"
   ]
  },
  {
   "cell_type": "markdown",
   "id": "ea552860",
   "metadata": {},
   "source": [
    "# Step 2: Importing the dataset from Kaggle"
   ]
  },
  {
   "cell_type": "code",
   "execution_count": 4,
   "id": "3336489f",
   "metadata": {},
   "outputs": [
    {
     "name": "stdout",
     "output_type": "stream",
     "text": [
      "Requirement already satisfied: kaggle in /Users/yaseerarafatkhan/anaconda3/lib/python3.11/site-packages (1.5.16)\n",
      "Requirement already satisfied: six>=1.10 in /Users/yaseerarafatkhan/anaconda3/lib/python3.11/site-packages (from kaggle) (1.16.0)\n",
      "Requirement already satisfied: certifi in /Users/yaseerarafatkhan/anaconda3/lib/python3.11/site-packages (from kaggle) (2023.7.22)\n",
      "Requirement already satisfied: python-dateutil in /Users/yaseerarafatkhan/anaconda3/lib/python3.11/site-packages (from kaggle) (2.8.2)\n",
      "Requirement already satisfied: requests in /Users/yaseerarafatkhan/anaconda3/lib/python3.11/site-packages (from kaggle) (2.31.0)\n",
      "Requirement already satisfied: tqdm in /Users/yaseerarafatkhan/anaconda3/lib/python3.11/site-packages (from kaggle) (4.65.0)\n",
      "Requirement already satisfied: python-slugify in /Users/yaseerarafatkhan/anaconda3/lib/python3.11/site-packages (from kaggle) (5.0.2)\n",
      "Requirement already satisfied: urllib3 in /Users/yaseerarafatkhan/anaconda3/lib/python3.11/site-packages (from kaggle) (2.0.5)\n",
      "Requirement already satisfied: bleach in /Users/yaseerarafatkhan/anaconda3/lib/python3.11/site-packages (from kaggle) (4.1.0)\n",
      "Requirement already satisfied: packaging in /Users/yaseerarafatkhan/anaconda3/lib/python3.11/site-packages (from bleach->kaggle) (23.0)\n",
      "Requirement already satisfied: webencodings in /Users/yaseerarafatkhan/anaconda3/lib/python3.11/site-packages (from bleach->kaggle) (0.5.1)\n",
      "Requirement already satisfied: text-unidecode>=1.3 in /Users/yaseerarafatkhan/anaconda3/lib/python3.11/site-packages (from python-slugify->kaggle) (1.3)\n",
      "Requirement already satisfied: charset-normalizer<4,>=2 in /Users/yaseerarafatkhan/anaconda3/lib/python3.11/site-packages (from requests->kaggle) (2.0.4)\n",
      "Requirement already satisfied: idna<4,>=2.5 in /Users/yaseerarafatkhan/anaconda3/lib/python3.11/site-packages (from requests->kaggle) (3.4)\n"
     ]
    }
   ],
   "source": [
    "!pip install kaggle\n"
   ]
  },
  {
   "cell_type": "code",
   "execution_count": 5,
   "id": "d7b4eee9",
   "metadata": {},
   "outputs": [],
   "source": [
    "import os\n",
    "\n",
    "# Set your Kaggle API key\n",
    "os.environ['KAGGLE_USERNAME'] = 'yaseerarafatkhan'\n",
    "os.environ['KAGGLE_KEY'] = '654b00fffeca3dc6ae9709d7e7ecfa53'"
   ]
  },
  {
   "cell_type": "code",
   "execution_count": 6,
   "id": "31c08b25",
   "metadata": {},
   "outputs": [
    {
     "name": "stdout",
     "output_type": "stream",
     "text": [
      "cat-and-dog.zip: Skipping, found more recently modified local copy (use --force to force download)\n"
     ]
    }
   ],
   "source": [
    "# Downloading The Dataset\n",
    "!kaggle datasets download -d tongpython/cat-and-dog"
   ]
  },
  {
   "cell_type": "code",
   "execution_count": 7,
   "id": "a6784a13",
   "metadata": {},
   "outputs": [],
   "source": [
    "import zipfile\n",
    "\n",
    "with zipfile.ZipFile('cat-and-dog.zip', 'r') as zip_ref:\n",
    "    zip_ref.extractall('/Users/yaseerarafatkhan/Downloads/Machine Learning & Deep Learning Projects for Beginners 2023/DEEP LEARNING Projects/14)Binary Image Classification with CNN')\n"
   ]
  },
  {
   "cell_type": "markdown",
   "id": "85c5cb4a",
   "metadata": {},
   "source": [
    "# Step 3: Building the Model"
   ]
  },
  {
   "cell_type": "code",
   "execution_count": 8,
   "id": "cd7dc690",
   "metadata": {},
   "outputs": [],
   "source": [
    "# Creating an object (Initilizing CNN)\n",
    "model = tf.keras.models.Sequential()"
   ]
  },
  {
   "cell_type": "code",
   "execution_count": 9,
   "id": "bb5eb5a9",
   "metadata": {},
   "outputs": [],
   "source": [
    "# Adding first CCN layer\n",
    "# 1) filters (kernel/feature detectors) = 64\n",
    "# 2) kernal size = 3\n",
    "# 3) padding = same\n",
    "# 4) activation = ReLU\n",
    "# 5) input shape = (32, 32, 3)\n",
    "\n",
    "model.add(tf.keras.layers.Conv2D(filters=64, kernel_size=3, padding='same', activation='relu', input_shape=[32, 32, 3]))"
   ]
  },
  {
   "cell_type": "code",
   "execution_count": 10,
   "id": "d657d999",
   "metadata": {},
   "outputs": [],
   "source": [
    "# Adding maxpool layer\n",
    "# 1) pool size = 2\n",
    "# 2) strides = 2\n",
    "# 3) padding = valid\n",
    "\n",
    "model.add(tf.keras.layers.MaxPool2D(pool_size=(2, 2), strides=2, padding='valid'))"
   ]
  },
  {
   "cell_type": "code",
   "execution_count": 11,
   "id": "5cf4c886",
   "metadata": {},
   "outputs": [],
   "source": [
    "# adding second CNN layer and maxpool layer\n",
    "\n",
    "model.add(tf.keras.layers.Conv2D(filters=64, kernel_size=3, padding='same', activation='relu'))\n",
    "\n",
    "model.add(tf.keras.layers.MaxPool2D(pool_size=(2, 2), strides=2, padding='valid'))"
   ]
  },
  {
   "cell_type": "code",
   "execution_count": 12,
   "id": "2fbacaa4",
   "metadata": {},
   "outputs": [],
   "source": [
    "# Adding Flattening layer\n",
    "model.add(tf.keras.layers.Flatten())"
   ]
  },
  {
   "cell_type": "code",
   "execution_count": 13,
   "id": "f3030748",
   "metadata": {},
   "outputs": [],
   "source": [
    "# Adding the dropout layer\n",
    "model.add(tf.keras.layers.Dropout(0.4))"
   ]
  },
  {
   "cell_type": "code",
   "execution_count": 14,
   "id": "52fe4ac4",
   "metadata": {},
   "outputs": [],
   "source": [
    "# Adding fully connected layer\n",
    "\n",
    "model.add(tf.keras.layers.Dense(units=128, activation='relu'))"
   ]
  },
  {
   "cell_type": "code",
   "execution_count": 15,
   "id": "67e407fe",
   "metadata": {},
   "outputs": [],
   "source": [
    "# Adding output layer\n",
    "\n",
    "model.add(tf.keras.layers.Dense(units=1, activation='sigmoid'))"
   ]
  },
  {
   "cell_type": "code",
   "execution_count": 16,
   "id": "26b8a136",
   "metadata": {},
   "outputs": [],
   "source": [
    "# Compiling the model\n",
    "\n",
    "model.compile(optimizer = 'adam', loss = 'binary_crossentropy', metrics = ['accuracy'])"
   ]
  },
  {
   "cell_type": "markdown",
   "id": "e9a4e3ac",
   "metadata": {},
   "source": [
    "# Step 4: Fitting CNN to images"
   ]
  },
  {
   "cell_type": "code",
   "execution_count": 17,
   "id": "0ea622ef",
   "metadata": {},
   "outputs": [],
   "source": [
    "from tensorflow.keras.preprocessing.image import ImageDataGenerator"
   ]
  },
  {
   "cell_type": "code",
   "execution_count": 18,
   "id": "6b701605",
   "metadata": {},
   "outputs": [],
   "source": [
    "training_data_dir = \"training_set/training_set\"\n",
    "test_data_dir = \"test_set/test_set\""
   ]
  },
  {
   "cell_type": "code",
   "execution_count": 20,
   "id": "d4ee7987",
   "metadata": {},
   "outputs": [],
   "source": [
    "#rescale images\n",
    "datagen = ImageDataGenerator(rescale=1./255)"
   ]
  },
  {
   "cell_type": "code",
   "execution_count": 21,
   "id": "6ed9fc90",
   "metadata": {},
   "outputs": [
    {
     "name": "stdout",
     "output_type": "stream",
     "text": [
      "Found 8005 images belonging to 2 classes.\n"
     ]
    }
   ],
   "source": [
    "training_set =datagen.flow_from_directory(directory=training_data_dir,target_size=(32,32),classes=[\"dogs\",\"cats\"],\n",
    "                                          class_mode =\"binary\",batch_size=20)"
   ]
  },
  {
   "cell_type": "code",
   "execution_count": 22,
   "id": "cfebb130",
   "metadata": {},
   "outputs": [
    {
     "name": "stdout",
     "output_type": "stream",
     "text": [
      "Found 2023 images belonging to 2 classes.\n"
     ]
    }
   ],
   "source": [
    "test_set =datagen.flow_from_directory(directory=test_data_dir,target_size=(32,32),classes=[\"dogs\",\"cats\"],\n",
    "                                          class_mode =\"binary\",batch_size=20)"
   ]
  },
  {
   "cell_type": "code",
   "execution_count": 24,
   "id": "2375d3bf",
   "metadata": {},
   "outputs": [
    {
     "data": {
      "text/plain": [
       "(8020, 2040)"
      ]
     },
     "execution_count": 24,
     "metadata": {},
     "output_type": "execute_result"
    }
   ],
   "source": [
    "len(training_set)*20,len(test_set)*20"
   ]
  },
  {
   "cell_type": "code",
   "execution_count": 25,
   "id": "4933ad8b",
   "metadata": {},
   "outputs": [
    {
     "data": {
      "text/plain": [
       "20"
      ]
     },
     "execution_count": 25,
     "metadata": {},
     "output_type": "execute_result"
    }
   ],
   "source": [
    "test_set.batch_size"
   ]
  },
  {
   "cell_type": "code",
   "execution_count": 26,
   "id": "cda3c9e9",
   "metadata": {},
   "outputs": [
    {
     "name": "stderr",
     "output_type": "stream",
     "text": [
      "/var/folders/1p/lzvh8nn53hd76nt7l85mqcqh0000gn/T/ipykernel_50165/1113202967.py:1: UserWarning: `Model.fit_generator` is deprecated and will be removed in a future version. Please use `Model.fit`, which supports generators.\n",
      "  history= model.fit_generator(generator=training_set,steps_per_epoch=401,epochs=20,validation_data=test_set,validation_steps=102)\n"
     ]
    },
    {
     "name": "stdout",
     "output_type": "stream",
     "text": [
      "Epoch 1/20\n",
      "401/401 [==============================] - 22s 53ms/step - loss: 0.6711 - accuracy: 0.5774 - val_loss: 0.6067 - val_accuracy: 0.6896\n",
      "Epoch 2/20\n",
      "401/401 [==============================] - 22s 55ms/step - loss: 0.5986 - accuracy: 0.6771 - val_loss: 0.5686 - val_accuracy: 0.7069\n",
      "Epoch 3/20\n",
      "401/401 [==============================] - 22s 55ms/step - loss: 0.5618 - accuracy: 0.7088 - val_loss: 0.6062 - val_accuracy: 0.6683\n",
      "Epoch 4/20\n",
      "401/401 [==============================] - 22s 55ms/step - loss: 0.5366 - accuracy: 0.7310 - val_loss: 0.5291 - val_accuracy: 0.7415\n",
      "Epoch 5/20\n",
      "401/401 [==============================] - 22s 56ms/step - loss: 0.4983 - accuracy: 0.7505 - val_loss: 0.5305 - val_accuracy: 0.7464\n",
      "Epoch 6/20\n",
      "401/401 [==============================] - 21s 53ms/step - loss: 0.4683 - accuracy: 0.7800 - val_loss: 0.5179 - val_accuracy: 0.7543\n",
      "Epoch 7/20\n",
      "401/401 [==============================] - 21s 53ms/step - loss: 0.4364 - accuracy: 0.7941 - val_loss: 0.5573 - val_accuracy: 0.7400\n",
      "Epoch 8/20\n",
      "401/401 [==============================] - 21s 53ms/step - loss: 0.4092 - accuracy: 0.8096 - val_loss: 0.5232 - val_accuracy: 0.7563\n",
      "Epoch 9/20\n",
      "401/401 [==============================] - 22s 54ms/step - loss: 0.3797 - accuracy: 0.8235 - val_loss: 0.5093 - val_accuracy: 0.7538\n",
      "Epoch 10/20\n",
      "401/401 [==============================] - 23s 58ms/step - loss: 0.3429 - accuracy: 0.8502 - val_loss: 0.5354 - val_accuracy: 0.7558\n",
      "Epoch 11/20\n",
      "401/401 [==============================] - 24s 60ms/step - loss: 0.3125 - accuracy: 0.8627 - val_loss: 0.5437 - val_accuracy: 0.7588\n",
      "Epoch 12/20\n",
      "401/401 [==============================] - 24s 60ms/step - loss: 0.2930 - accuracy: 0.8740 - val_loss: 0.6198 - val_accuracy: 0.7479\n",
      "Epoch 13/20\n",
      "401/401 [==============================] - 24s 59ms/step - loss: 0.2598 - accuracy: 0.8927 - val_loss: 0.5736 - val_accuracy: 0.7588\n",
      "Epoch 14/20\n",
      "401/401 [==============================] - 25s 62ms/step - loss: 0.2291 - accuracy: 0.9063 - val_loss: 0.6338 - val_accuracy: 0.7425\n",
      "Epoch 15/20\n",
      "401/401 [==============================] - 27s 66ms/step - loss: 0.2031 - accuracy: 0.9182 - val_loss: 0.6024 - val_accuracy: 0.7430\n",
      "Epoch 16/20\n",
      "401/401 [==============================] - 26s 64ms/step - loss: 0.1768 - accuracy: 0.9298 - val_loss: 0.6420 - val_accuracy: 0.7504\n",
      "Epoch 17/20\n",
      "401/401 [==============================] - 24s 59ms/step - loss: 0.1605 - accuracy: 0.9383 - val_loss: 0.6342 - val_accuracy: 0.7603\n",
      "Epoch 18/20\n",
      "401/401 [==============================] - 23s 57ms/step - loss: 0.1342 - accuracy: 0.9493 - val_loss: 0.7435 - val_accuracy: 0.7489\n",
      "Epoch 19/20\n",
      "401/401 [==============================] - 21s 52ms/step - loss: 0.1317 - accuracy: 0.9502 - val_loss: 0.7345 - val_accuracy: 0.7568\n",
      "Epoch 20/20\n",
      "401/401 [==============================] - 22s 55ms/step - loss: 0.1308 - accuracy: 0.9523 - val_loss: 0.7491 - val_accuracy: 0.7528\n"
     ]
    }
   ],
   "source": [
    "history= model.fit_generator(generator=training_set,steps_per_epoch=401,epochs=20,validation_data=test_set,validation_steps=102)"
   ]
  },
  {
   "cell_type": "markdown",
   "id": "1069a2db",
   "metadata": {},
   "source": [
    "# Step 5: Plotting the learning curve"
   ]
  },
  {
   "cell_type": "code",
   "execution_count": 37,
   "id": "5f1f916a",
   "metadata": {},
   "outputs": [],
   "source": [
    "def learning_curve(history,epoch):\n",
    "    #training vs validation accuracy\n",
    "    epoch_range = range(1,epoch+1)\n",
    "    plt.plot(epoch_range,history.history[\"accuracy\"])\n",
    "    plt.plot(epoch_range,history.history[\"val_accuracy\"])\n",
    "    plt.title(\"Model Accuracy\")\n",
    "    plt.ylabel(\"Accuracy\")\n",
    "    plt.xlabel(\"Epoch\")\n",
    "    plt.legend([\"Train\", \"Val\"],loc =\"upper left\")\n",
    "    plt.grid(True) \n",
    "    plt.show()\n",
    "    \n",
    "    #training vs validation loss\n",
    "    plt.plot(epoch_range,history.history[\"loss\"])\n",
    "    plt.plot(epoch_range,history.history[\"val_loss\"])\n",
    "    plt.title(\"Model Loss\")\n",
    "    plt.ylabel(\"Loss\")\n",
    "    plt.xlabel(\"Epoch\")\n",
    "    plt.grid(True) \n",
    "    plt.show()"
   ]
  },
  {
   "cell_type": "code",
   "execution_count": 39,
   "id": "f55952f8",
   "metadata": {},
   "outputs": [
    {
     "data": {
      "image/png": "[encoded data removed]",
      "text/plain": [
       "<Figure size 640x480 with 1 Axes>"
      ]
     },
     "metadata": {},
     "output_type": "display_data"
    },
    {
     "data": {
      "image/png": "[encoded data removed]",
      "text/plain": [
       "<Figure size 640x480 with 1 Axes>"
      ]
     },
     "metadata": {},
     "output_type": "display_data"
    }
   ],
   "source": [
    "learning_curve(history,20)"
   ]
  },
  {
   "cell_type": "code",
   "execution_count": null,
   "id": "601c6deb",
   "metadata": {},
   "outputs": [],
   "source": []
  }
 ],
 "metadata": {
  "kernelspec": {
   "display_name": "Python 3 (ipykernel)",
   "language": "python",
   "name": "python3"
  },
  "language_info": {
   "codemirror_mode": {
    "name": "ipython",
    "version": 3
   },
   "file_extension": ".py",
   "mimetype": "text/x-python",
   "name": "python",
   "nbconvert_exporter": "python",
   "pygments_lexer": "ipython3",
   "version": "3.11.4"
  }
 },
 "nbformat": 4,
 "nbformat_minor": 5
}
