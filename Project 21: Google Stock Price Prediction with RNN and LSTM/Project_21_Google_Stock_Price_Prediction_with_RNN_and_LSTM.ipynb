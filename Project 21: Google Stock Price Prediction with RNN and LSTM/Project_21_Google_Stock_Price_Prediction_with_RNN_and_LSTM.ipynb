{
  "cells": [
    {
      "cell_type": "markdown",
      "metadata": {
        "id": "JnUJL1yDcaAU"
      },
      "source": [
        "# Step 1: Installation and Setup"
      ]
    },
    {
      "cell_type": "code",
      "execution_count": 1,
      "metadata": {
        "id": "IAVAPFLBeict"
      },
      "outputs": [],
      "source": [
        "import tensorflow as tf"
      ]
    },
    {
      "cell_type": "code",
      "execution_count": 2,
      "metadata": {
        "colab": {
          "base_uri": "https://localhost:8080/",
          "height": 34
        },
        "id": "N910MGhdemZZ",
        "outputId": "facec38f-96c4-41e6-c3bf-5be821e56d13"
      },
      "outputs": [
        {
          "name": "stdout",
          "output_type": "stream",
          "text": [
            "2.13.0\n"
          ]
        }
      ],
      "source": [
        "print(tf.__version__)"
      ]
    },
    {
      "cell_type": "code",
      "execution_count": 3,
      "metadata": {
        "id": "zsYFGI4pev5Z"
      },
      "outputs": [],
      "source": [
        "import numpy as np\n",
        "import pandas as pd\n",
        "import matplotlib.pyplot as plt"
      ]
    },
    {
      "cell_type": "markdown",
      "metadata": {
        "id": "r6LzCowtfDdo"
      },
      "source": [
        "# Step 2: Data Preprocessing"
      ]
    },
    {
      "cell_type": "code",
      "execution_count": 4,
      "metadata": {
        "id": "_X-7lQBxhcHF"
      },
      "outputs": [],
      "source": [
        "training_data = pd.read_csv('training_set.csv')"
      ]
    },
    {
      "cell_type": "code",
      "execution_count": 5,
      "metadata": {
        "colab": {
          "base_uri": "https://localhost:8080/",
          "height": 199
        },
        "id": "17bH4VpKhj2x",
        "outputId": "d2a15866-55a4-4ebc-ca17-f2f0711d2367"
      },
      "outputs": [
        {
          "data": {
            "text/html": [
              "<div>\n",
              "<style scoped>\n",
              "    .dataframe tbody tr th:only-of-type {\n",
              "        vertical-align: middle;\n",
              "    }\n",
              "\n",
              "    .dataframe tbody tr th {\n",
              "        vertical-align: top;\n",
              "    }\n",
              "\n",
              "    .dataframe thead th {\n",
              "        text-align: right;\n",
              "    }\n",
              "</style>\n",
              "<table border=\"1\" class=\"dataframe\">\n",
              "  <thead>\n",
              "    <tr style=\"text-align: right;\">\n",
              "      <th></th>\n",
              "      <th>Date</th>\n",
              "      <th>Open</th>\n",
              "      <th>High</th>\n",
              "      <th>Low</th>\n",
              "      <th>Close</th>\n",
              "      <th>Adj Close</th>\n",
              "      <th>Volume</th>\n",
              "    </tr>\n",
              "  </thead>\n",
              "  <tbody>\n",
              "    <tr>\n",
              "      <th>0</th>\n",
              "      <td>2014-11-03</td>\n",
              "      <td>553.979065</td>\n",
              "      <td>556.372498</td>\n",
              "      <td>551.715271</td>\n",
              "      <td>553.699829</td>\n",
              "      <td>553.699829</td>\n",
              "      <td>1382200</td>\n",
              "    </tr>\n",
              "    <tr>\n",
              "      <th>1</th>\n",
              "      <td>2014-11-04</td>\n",
              "      <td>551.485901</td>\n",
              "      <td>553.979065</td>\n",
              "      <td>547.796021</td>\n",
              "      <td>552.592834</td>\n",
              "      <td>552.592834</td>\n",
              "      <td>1244200</td>\n",
              "    </tr>\n",
              "    <tr>\n",
              "      <th>2</th>\n",
              "      <td>2014-11-05</td>\n",
              "      <td>555.275513</td>\n",
              "      <td>555.275513</td>\n",
              "      <td>542.560425</td>\n",
              "      <td>544.425293</td>\n",
              "      <td>544.425293</td>\n",
              "      <td>2032200</td>\n",
              "    </tr>\n",
              "    <tr>\n",
              "      <th>3</th>\n",
              "      <td>2014-11-06</td>\n",
              "      <td>544.006409</td>\n",
              "      <td>545.387634</td>\n",
              "      <td>539.488831</td>\n",
              "      <td>540.555908</td>\n",
              "      <td>540.555908</td>\n",
              "      <td>1333200</td>\n",
              "    </tr>\n",
              "    <tr>\n",
              "      <th>4</th>\n",
              "      <td>2014-11-07</td>\n",
              "      <td>544.714478</td>\n",
              "      <td>544.714478</td>\n",
              "      <td>537.195129</td>\n",
              "      <td>539.528748</td>\n",
              "      <td>539.528748</td>\n",
              "      <td>1633700</td>\n",
              "    </tr>\n",
              "  </tbody>\n",
              "</table>\n",
              "</div>"
            ],
            "text/plain": [
              "         Date        Open        High         Low       Close   Adj Close  \\\n",
              "0  2014-11-03  553.979065  556.372498  551.715271  553.699829  553.699829   \n",
              "1  2014-11-04  551.485901  553.979065  547.796021  552.592834  552.592834   \n",
              "2  2014-11-05  555.275513  555.275513  542.560425  544.425293  544.425293   \n",
              "3  2014-11-06  544.006409  545.387634  539.488831  540.555908  540.555908   \n",
              "4  2014-11-07  544.714478  544.714478  537.195129  539.528748  539.528748   \n",
              "\n",
              "    Volume  \n",
              "0  1382200  \n",
              "1  1244200  \n",
              "2  2032200  \n",
              "3  1333200  \n",
              "4  1633700  "
            ]
          },
          "execution_count": 5,
          "metadata": {},
          "output_type": "execute_result"
        }
      ],
      "source": [
        "training_data.head()"
      ]
    },
    {
      "cell_type": "code",
      "execution_count": 6,
      "metadata": {
        "colab": {
          "base_uri": "https://localhost:8080/",
          "height": 199
        },
        "id": "Q3Yr0DMghyqn",
        "outputId": "da53a435-7a76-4321-ca54-75a207cdf974"
      },
      "outputs": [
        {
          "data": {
            "text/html": [
              "<div>\n",
              "<style scoped>\n",
              "    .dataframe tbody tr th:only-of-type {\n",
              "        vertical-align: middle;\n",
              "    }\n",
              "\n",
              "    .dataframe tbody tr th {\n",
              "        vertical-align: top;\n",
              "    }\n",
              "\n",
              "    .dataframe thead th {\n",
              "        text-align: right;\n",
              "    }\n",
              "</style>\n",
              "<table border=\"1\" class=\"dataframe\">\n",
              "  <thead>\n",
              "    <tr style=\"text-align: right;\">\n",
              "      <th></th>\n",
              "      <th>Date</th>\n",
              "      <th>Open</th>\n",
              "      <th>High</th>\n",
              "      <th>Low</th>\n",
              "      <th>Close</th>\n",
              "      <th>Adj Close</th>\n",
              "      <th>Volume</th>\n",
              "    </tr>\n",
              "  </thead>\n",
              "  <tbody>\n",
              "    <tr>\n",
              "      <th>1252</th>\n",
              "      <td>2019-10-24</td>\n",
              "      <td>1260.900024</td>\n",
              "      <td>1264.000000</td>\n",
              "      <td>1253.714966</td>\n",
              "      <td>1260.989990</td>\n",
              "      <td>1260.989990</td>\n",
              "      <td>1028100</td>\n",
              "    </tr>\n",
              "    <tr>\n",
              "      <th>1253</th>\n",
              "      <td>2019-10-25</td>\n",
              "      <td>1251.030029</td>\n",
              "      <td>1269.599976</td>\n",
              "      <td>1250.010010</td>\n",
              "      <td>1265.130005</td>\n",
              "      <td>1265.130005</td>\n",
              "      <td>1213100</td>\n",
              "    </tr>\n",
              "    <tr>\n",
              "      <th>1254</th>\n",
              "      <td>2019-10-28</td>\n",
              "      <td>1275.449951</td>\n",
              "      <td>1299.310059</td>\n",
              "      <td>1272.540039</td>\n",
              "      <td>1290.000000</td>\n",
              "      <td>1290.000000</td>\n",
              "      <td>2613200</td>\n",
              "    </tr>\n",
              "    <tr>\n",
              "      <th>1255</th>\n",
              "      <td>2019-10-29</td>\n",
              "      <td>1276.229980</td>\n",
              "      <td>1281.589966</td>\n",
              "      <td>1257.212036</td>\n",
              "      <td>1262.619995</td>\n",
              "      <td>1262.619995</td>\n",
              "      <td>1886400</td>\n",
              "    </tr>\n",
              "    <tr>\n",
              "      <th>1256</th>\n",
              "      <td>2019-10-30</td>\n",
              "      <td>1252.969971</td>\n",
              "      <td>1269.359985</td>\n",
              "      <td>1252.000000</td>\n",
              "      <td>1261.290039</td>\n",
              "      <td>1261.290039</td>\n",
              "      <td>1408900</td>\n",
              "    </tr>\n",
              "  </tbody>\n",
              "</table>\n",
              "</div>"
            ],
            "text/plain": [
              "            Date         Open         High          Low        Close  \\\n",
              "1252  2019-10-24  1260.900024  1264.000000  1253.714966  1260.989990   \n",
              "1253  2019-10-25  1251.030029  1269.599976  1250.010010  1265.130005   \n",
              "1254  2019-10-28  1275.449951  1299.310059  1272.540039  1290.000000   \n",
              "1255  2019-10-29  1276.229980  1281.589966  1257.212036  1262.619995   \n",
              "1256  2019-10-30  1252.969971  1269.359985  1252.000000  1261.290039   \n",
              "\n",
              "        Adj Close   Volume  \n",
              "1252  1260.989990  1028100  \n",
              "1253  1265.130005  1213100  \n",
              "1254  1290.000000  2613200  \n",
              "1255  1262.619995  1886400  \n",
              "1256  1261.290039  1408900  "
            ]
          },
          "execution_count": 6,
          "metadata": {},
          "output_type": "execute_result"
        }
      ],
      "source": [
        "training_data.tail()"
      ]
    },
    {
      "cell_type": "code",
      "execution_count": 7,
      "metadata": {
        "colab": {
          "base_uri": "https://localhost:8080/",
          "height": 228
        },
        "id": "Y41GZSFZh-AT",
        "outputId": "a6b09f6e-c58c-46e4-fde9-7f929fb3bcbb"
      },
      "outputs": [
        {
          "name": "stdout",
          "output_type": "stream",
          "text": [
            "<class 'pandas.core.frame.DataFrame'>\n",
            "RangeIndex: 1257 entries, 0 to 1256\n",
            "Data columns (total 7 columns):\n",
            " #   Column     Non-Null Count  Dtype  \n",
            "---  ------     --------------  -----  \n",
            " 0   Date       1257 non-null   object \n",
            " 1   Open       1257 non-null   float64\n",
            " 2   High       1257 non-null   float64\n",
            " 3   Low        1257 non-null   float64\n",
            " 4   Close      1257 non-null   float64\n",
            " 5   Adj Close  1257 non-null   float64\n",
            " 6   Volume     1257 non-null   int64  \n",
            "dtypes: float64(5), int64(1), object(1)\n",
            "memory usage: 68.9+ KB\n"
          ]
        }
      ],
      "source": [
        "training_data.info()"
      ]
    },
    {
      "cell_type": "code",
      "execution_count": 8,
      "metadata": {
        "id": "bCNeTBT-iO6L"
      },
      "outputs": [],
      "source": [
        "training_set = training_data.iloc[:, 1:2].values"
      ]
    },
    {
      "cell_type": "code",
      "execution_count": 9,
      "metadata": {
        "colab": {
          "base_uri": "https://localhost:8080/",
          "height": 34
        },
        "id": "UlhJiPfNjK4y",
        "outputId": "c1be5f66-40fd-41a0-8c22-9ee6ef56aa51"
      },
      "outputs": [
        {
          "data": {
            "text/plain": [
              "((1257, 1), (1257, 7))"
            ]
          },
          "execution_count": 9,
          "metadata": {},
          "output_type": "execute_result"
        }
      ],
      "source": [
        "training_set.shape, training_data.shape"
      ]
    },
    {
      "cell_type": "code",
      "execution_count": 10,
      "metadata": {
        "id": "IGPQIJShjfeT"
      },
      "outputs": [],
      "source": [
        "# feature scaling\n",
        "from sklearn.preprocessing import MinMaxScaler\n",
        "sc = MinMaxScaler(feature_range=(0,1))\n",
        "training_set_scaled = sc.fit_transform(training_set)"
      ]
    },
    {
      "cell_type": "code",
      "execution_count": 11,
      "metadata": {
        "colab": {
          "base_uri": "https://localhost:8080/",
          "height": 140
        },
        "id": "S04mqrFElMiD",
        "outputId": "d65fa5f9-79e2-4abf-ec1c-550c97942d68"
      },
      "outputs": [
        {
          "data": {
            "text/plain": [
              "array([[0.07750766],\n",
              "       [0.07432328],\n",
              "       [0.07916355],\n",
              "       ...,\n",
              "       [0.99900371],\n",
              "       [1.        ],\n",
              "       [0.97029124]])"
            ]
          },
          "execution_count": 11,
          "metadata": {},
          "output_type": "execute_result"
        }
      ],
      "source": [
        "training_set_scaled"
      ]
    },
    {
      "cell_type": "code",
      "execution_count": 12,
      "metadata": {
        "id": "5F8q5hShy3qj"
      },
      "outputs": [],
      "source": [
        "# Creating a data structure with 60 timesteps and 1 output\n",
        "x_train = []\n",
        "y_train = []\n",
        "\n",
        "for i in range(60, 1257):\n",
        "  x_train.append(training_set_scaled[i-60:i, 0])\n",
        "  y_train.append(training_set_scaled[i, 0])\n",
        "\n",
        "# converting x_train and y_train into numpy array\n",
        "x_train, y_train = np.array(x_train), np.array(y_train)"
      ]
    },
    {
      "cell_type": "code",
      "execution_count": 13,
      "metadata": {
        "colab": {
          "base_uri": "https://localhost:8080/",
          "height": 245
        },
        "id": "GAldMGbT3J2r",
        "outputId": "dbea9bc1-a99e-4ff4-8a87-6dd297b9931c"
      },
      "outputs": [
        {
          "data": {
            "text/plain": [
              "array([[0.07750766, 0.07432328, 0.07916355, ..., 0.04498879, 0.03583056,\n",
              "        0.0208258 ],\n",
              "       [0.07432328, 0.07916355, 0.06477013, ..., 0.03583056, 0.0208258 ,\n",
              "        0.02701621],\n",
              "       [0.07916355, 0.06477013, 0.0656745 , ..., 0.0208258 , 0.02701621,\n",
              "        0.0472306 ],\n",
              "       ...,\n",
              "       [0.90358069, 0.86436929, 0.85577344, ..., 0.95673967, 0.98041987,\n",
              "        0.96781345],\n",
              "       [0.86436929, 0.85577344, 0.8464367 , ..., 0.98041987, 0.96781345,\n",
              "        0.99900371],\n",
              "       [0.85577344, 0.8464367 , 0.88070516, ..., 0.96781345, 0.99900371,\n",
              "        1.        ]])"
            ]
          },
          "execution_count": 13,
          "metadata": {},
          "output_type": "execute_result"
        }
      ],
      "source": [
        "x_train"
      ]
    },
    {
      "cell_type": "code",
      "execution_count": 34,
      "metadata": {
        "colab": {
          "base_uri": "https://localhost:8080/",
          "height": 52
        },
        "id": "a1hPsc9N3hn6",
        "outputId": "a44ef39b-6f25-4fa8-b355-22ddfd5e73d6"
      },
      "outputs": [
        {
          "data": {
            "text/plain": [
              "array([0.02701621, 0.0472306 , 0.04247951, ..., 0.99900371, 1.        ,\n",
              "       0.97029124])"
            ]
          },
          "execution_count": 34,
          "metadata": {},
          "output_type": "execute_result"
        }
      ],
      "source": [
        "y_train"
      ]
    },
    {
      "cell_type": "code",
      "execution_count": 15,
      "metadata": {
        "colab": {
          "base_uri": "https://localhost:8080/",
          "height": 34
        },
        "id": "quHLukyh3j7Z",
        "outputId": "529a2237-ca1f-4285-8836-afe42c3a9659"
      },
      "outputs": [
        {
          "data": {
            "text/plain": [
              "(1197, 60)"
            ]
          },
          "execution_count": 15,
          "metadata": {},
          "output_type": "execute_result"
        }
      ],
      "source": [
        "x_train.shape"
      ]
    },
    {
      "cell_type": "code",
      "execution_count": 16,
      "metadata": {
        "id": "A5ECf-dV3108"
      },
      "outputs": [],
      "source": [
        "# reshaping dataset\n",
        "x_train = x_train.reshape(1197, 60, 1)"
      ]
    },
    {
      "cell_type": "code",
      "execution_count": 17,
      "metadata": {
        "colab": {
          "base_uri": "https://localhost:8080/",
          "height": 34
        },
        "id": "F8b4mvua4VF1",
        "outputId": "0b132d1b-266f-4435-b709-c3f0f57f1a3d"
      },
      "outputs": [
        {
          "data": {
            "text/plain": [
              "(1197, 60, 1)"
            ]
          },
          "execution_count": 17,
          "metadata": {},
          "output_type": "execute_result"
        }
      ],
      "source": [
        "x_train.shape"
      ]
    },
    {
      "cell_type": "markdown",
      "metadata": {
        "id": "PlFUI6v84zNm"
      },
      "source": [
        "# Step 3: Building LSTM"
      ]
    },
    {
      "cell_type": "code",
      "execution_count": 18,
      "metadata": {
        "id": "4Nnz5Fqn6iBE"
      },
      "outputs": [],
      "source": [
        "# define an object (initializing RNN)\n",
        "model = tf.keras.models.Sequential()"
      ]
    },
    {
      "cell_type": "code",
      "execution_count": 19,
      "metadata": {
        "id": "Btzw1QaB7uG0"
      },
      "outputs": [],
      "source": [
        "# first LSTM layer\n",
        "model.add(tf.keras.layers.LSTM(units=60, activation='relu', return_sequences=True, input_shape=(60,1)))\n",
        "# dropout layer\n",
        "model.add(tf.keras.layers.Dropout(0.2))\n",
        "\n",
        "# second LSTM layer\n",
        "model.add(tf.keras.layers.LSTM(units=60, activation='relu', return_sequences=True))\n",
        "# dropout layer\n",
        "model.add(tf.keras.layers.Dropout(0.2))\n",
        "\n",
        "# third LSTM layer\n",
        "model.add(tf.keras.layers.LSTM(units=80, activation='relu', return_sequences=True))\n",
        "# dropout layer\n",
        "model.add(tf.keras.layers.Dropout(0.2))\n",
        "\n",
        "# fourth LSTM layer\n",
        "model.add(tf.keras.layers.LSTM(units=120, activation='relu'))\n",
        "# dropout layer\n",
        "model.add(tf.keras.layers.Dropout(0.2))"
      ]
    },
    {
      "cell_type": "code",
      "execution_count": 20,
      "metadata": {
        "id": "ZGWT2gt--p-W"
      },
      "outputs": [],
      "source": [
        "# output layer\n",
        "model.add(tf.keras.layers.Dense(units=1))"
      ]
    },
    {
      "cell_type": "code",
      "execution_count": 21,
      "metadata": {
        "colab": {
          "base_uri": "https://localhost:8080/",
          "height": 474
        },
        "id": "CZGJi0LH_uyP",
        "outputId": "96aec9a6-3ff9-4f1d-df39-2d6f402a08ce"
      },
      "outputs": [
        {
          "name": "stdout",
          "output_type": "stream",
          "text": [
            "Model: \"sequential\"\n",
            "_________________________________________________________________\n",
            " Layer (type)                Output Shape              Param #   \n",
            "=================================================================\n",
            " lstm (LSTM)                 (None, 60, 60)            14880     \n",
            "                                                                 \n",
            " dropout (Dropout)           (None, 60, 60)            0         \n",
            "                                                                 \n",
            " lstm_1 (LSTM)               (None, 60, 60)            29040     \n",
            "                                                                 \n",
            " dropout_1 (Dropout)         (None, 60, 60)            0         \n",
            "                                                                 \n",
            " lstm_2 (LSTM)               (None, 60, 80)            45120     \n",
            "                                                                 \n",
            " dropout_2 (Dropout)         (None, 60, 80)            0         \n",
            "                                                                 \n",
            " lstm_3 (LSTM)               (None, 120)               96480     \n",
            "                                                                 \n",
            " dropout_3 (Dropout)         (None, 120)               0         \n",
            "                                                                 \n",
            " dense (Dense)               (None, 1)                 121       \n",
            "                                                                 \n",
            "=================================================================\n",
            "Total params: 185641 (725.16 KB)\n",
            "Trainable params: 185641 (725.16 KB)\n",
            "Non-trainable params: 0 (0.00 Byte)\n",
            "_________________________________________________________________\n"
          ]
        }
      ],
      "source": [
        "model.summary()"
      ]
    },
    {
      "cell_type": "code",
      "execution_count": 22,
      "metadata": {
        "id": "xcpXoLJLAGFa"
      },
      "outputs": [],
      "source": [
        "# compile the model\n",
        "model.compile(optimizer='adam', loss='mean_squared_error')"
      ]
    },
    {
      "cell_type": "markdown",
      "metadata": {
        "id": "hhjCg4kVCnM_"
      },
      "source": [
        "# Step 4: Training the model"
      ]
    },
    {
      "cell_type": "code",
      "execution_count": 23,
      "metadata": {
        "colab": {
          "base_uri": "https://localhost:8080/",
          "height": 1000
        },
        "id": "bbiebFeYCqb-",
        "outputId": "52efbff9-5684-4d70-de70-6a581611c552"
      },
      "outputs": [
        {
          "name": "stdout",
          "output_type": "stream",
          "text": [
            "Epoch 1/100\n",
            "38/38 [==============================] - 6s 97ms/step - loss: 0.1027\n",
            "Epoch 2/100\n",
            "38/38 [==============================] - 4s 100ms/step - loss: 0.0104\n",
            "Epoch 3/100\n",
            "38/38 [==============================] - 4s 106ms/step - loss: 0.0069\n",
            "Epoch 4/100\n",
            "38/38 [==============================] - 4s 107ms/step - loss: 0.0067\n",
            "Epoch 5/100\n",
            "38/38 [==============================] - 4s 108ms/step - loss: 0.0074\n",
            "Epoch 6/100\n",
            "38/38 [==============================] - 4s 106ms/step - loss: 0.0061\n",
            "Epoch 7/100\n",
            "38/38 [==============================] - 4s 107ms/step - loss: 0.0062\n",
            "Epoch 8/100\n",
            "38/38 [==============================] - 4s 108ms/step - loss: 0.0054\n",
            "Epoch 9/100\n",
            "38/38 [==============================] - 4s 108ms/step - loss: 0.0056\n",
            "Epoch 10/100\n",
            "38/38 [==============================] - 4s 109ms/step - loss: 0.0050\n",
            "Epoch 11/100\n",
            "38/38 [==============================] - 4s 108ms/step - loss: 0.0054\n",
            "Epoch 12/100\n",
            "38/38 [==============================] - 4s 108ms/step - loss: 0.0051\n",
            "Epoch 13/100\n",
            "38/38 [==============================] - 4s 107ms/step - loss: 0.0049\n",
            "Epoch 14/100\n",
            "38/38 [==============================] - 4s 110ms/step - loss: 0.0054\n",
            "Epoch 15/100\n",
            "38/38 [==============================] - 4s 109ms/step - loss: 0.0050\n",
            "Epoch 16/100\n",
            "38/38 [==============================] - 4s 107ms/step - loss: 0.0046\n",
            "Epoch 17/100\n",
            "38/38 [==============================] - 4s 108ms/step - loss: 0.0052\n",
            "Epoch 18/100\n",
            "38/38 [==============================] - 4s 109ms/step - loss: 0.0046\n",
            "Epoch 19/100\n",
            "38/38 [==============================] - 4s 107ms/step - loss: 0.0042\n",
            "Epoch 20/100\n",
            "38/38 [==============================] - 4s 113ms/step - loss: 0.0041\n",
            "Epoch 21/100\n",
            "38/38 [==============================] - 5s 120ms/step - loss: 0.0041\n",
            "Epoch 22/100\n",
            "38/38 [==============================] - 4s 110ms/step - loss: 0.0039\n",
            "Epoch 23/100\n",
            "38/38 [==============================] - 4s 107ms/step - loss: 0.0044\n",
            "Epoch 24/100\n",
            "38/38 [==============================] - 4s 107ms/step - loss: 0.0039\n",
            "Epoch 25/100\n",
            "38/38 [==============================] - 4s 116ms/step - loss: 0.0043\n",
            "Epoch 26/100\n",
            "38/38 [==============================] - 4s 105ms/step - loss: 0.0034\n",
            "Epoch 27/100\n",
            "38/38 [==============================] - 4s 106ms/step - loss: 0.0038\n",
            "Epoch 28/100\n",
            "38/38 [==============================] - 5s 119ms/step - loss: 0.0038\n",
            "Epoch 29/100\n",
            "38/38 [==============================] - 4s 111ms/step - loss: 0.0036\n",
            "Epoch 30/100\n",
            "38/38 [==============================] - 4s 108ms/step - loss: 0.0034\n",
            "Epoch 31/100\n",
            "38/38 [==============================] - 4s 105ms/step - loss: 0.0039\n",
            "Epoch 32/100\n",
            "38/38 [==============================] - 4s 109ms/step - loss: 0.0040\n",
            "Epoch 33/100\n",
            "38/38 [==============================] - 4s 111ms/step - loss: 0.0042\n",
            "Epoch 34/100\n",
            "38/38 [==============================] - 4s 105ms/step - loss: 0.0038\n",
            "Epoch 35/100\n",
            "38/38 [==============================] - 4s 110ms/step - loss: 0.0035\n",
            "Epoch 36/100\n",
            "38/38 [==============================] - 4s 105ms/step - loss: 0.0037\n",
            "Epoch 37/100\n",
            "38/38 [==============================] - 4s 106ms/step - loss: 0.0032\n",
            "Epoch 38/100\n",
            "38/38 [==============================] - 4s 106ms/step - loss: 0.0034\n",
            "Epoch 39/100\n",
            "38/38 [==============================] - 4s 106ms/step - loss: 0.0040\n",
            "Epoch 40/100\n",
            "38/38 [==============================] - 4s 109ms/step - loss: 0.0037\n",
            "Epoch 41/100\n",
            "38/38 [==============================] - 4s 106ms/step - loss: 0.0033\n",
            "Epoch 42/100\n",
            "38/38 [==============================] - 4s 109ms/step - loss: 0.0033\n",
            "Epoch 43/100\n",
            "38/38 [==============================] - 4s 104ms/step - loss: 0.0033\n",
            "Epoch 44/100\n",
            "38/38 [==============================] - 4s 108ms/step - loss: 0.0031\n",
            "Epoch 45/100\n",
            "38/38 [==============================] - 4s 106ms/step - loss: 0.0032\n",
            "Epoch 46/100\n",
            "38/38 [==============================] - 4s 112ms/step - loss: 0.0042\n",
            "Epoch 47/100\n",
            "38/38 [==============================] - 4s 106ms/step - loss: 0.0032\n",
            "Epoch 48/100\n",
            "38/38 [==============================] - 4s 106ms/step - loss: 0.0032\n",
            "Epoch 49/100\n",
            "38/38 [==============================] - 4s 105ms/step - loss: 0.0029\n",
            "Epoch 50/100\n",
            "38/38 [==============================] - 4s 106ms/step - loss: 0.0031\n",
            "Epoch 51/100\n",
            "38/38 [==============================] - 4s 106ms/step - loss: 0.0028\n",
            "Epoch 52/100\n",
            "38/38 [==============================] - 4s 108ms/step - loss: 0.0029\n",
            "Epoch 53/100\n",
            "38/38 [==============================] - 4s 115ms/step - loss: 0.0030\n",
            "Epoch 54/100\n",
            "38/38 [==============================] - 4s 106ms/step - loss: 0.0032\n",
            "Epoch 55/100\n",
            "38/38 [==============================] - 4s 110ms/step - loss: 0.0032\n",
            "Epoch 56/100\n",
            "38/38 [==============================] - 4s 108ms/step - loss: 0.0030\n",
            "Epoch 57/100\n",
            "38/38 [==============================] - 4s 106ms/step - loss: 0.0030\n",
            "Epoch 58/100\n",
            "38/38 [==============================] - 4s 108ms/step - loss: 0.0030\n",
            "Epoch 59/100\n",
            "38/38 [==============================] - 4s 111ms/step - loss: 0.0028\n",
            "Epoch 60/100\n",
            "38/38 [==============================] - 4s 106ms/step - loss: 0.0028\n",
            "Epoch 61/100\n",
            "38/38 [==============================] - 4s 106ms/step - loss: 0.0028\n",
            "Epoch 62/100\n",
            "38/38 [==============================] - 4s 107ms/step - loss: 0.0027\n",
            "Epoch 63/100\n",
            "38/38 [==============================] - 4s 105ms/step - loss: 0.0030\n",
            "Epoch 64/100\n",
            "38/38 [==============================] - 4s 106ms/step - loss: 0.0031\n",
            "Epoch 65/100\n",
            "38/38 [==============================] - 4s 106ms/step - loss: 0.0028\n",
            "Epoch 66/100\n",
            "38/38 [==============================] - 4s 106ms/step - loss: 0.0028\n",
            "Epoch 67/100\n",
            "38/38 [==============================] - 4s 106ms/step - loss: 0.0025\n",
            "Epoch 68/100\n",
            "38/38 [==============================] - 4s 106ms/step - loss: 0.0027\n",
            "Epoch 69/100\n",
            "38/38 [==============================] - 4s 110ms/step - loss: 0.0026\n",
            "Epoch 70/100\n",
            "38/38 [==============================] - 4s 108ms/step - loss: 0.0025\n",
            "Epoch 71/100\n",
            "38/38 [==============================] - 4s 112ms/step - loss: 0.0026\n",
            "Epoch 72/100\n",
            "38/38 [==============================] - 4s 110ms/step - loss: 0.0025\n",
            "Epoch 73/100\n",
            "38/38 [==============================] - 4s 106ms/step - loss: 0.0025\n",
            "Epoch 74/100\n",
            "38/38 [==============================] - 4s 108ms/step - loss: 0.0026\n",
            "Epoch 75/100\n",
            "38/38 [==============================] - 4s 106ms/step - loss: 0.0024\n",
            "Epoch 76/100\n",
            "38/38 [==============================] - 4s 118ms/step - loss: 0.0026\n",
            "Epoch 77/100\n",
            "38/38 [==============================] - 4s 115ms/step - loss: 0.0025\n",
            "Epoch 78/100\n",
            "38/38 [==============================] - 4s 114ms/step - loss: 0.0026\n",
            "Epoch 79/100\n",
            "38/38 [==============================] - 4s 113ms/step - loss: 0.0024\n",
            "Epoch 80/100\n",
            "38/38 [==============================] - 4s 112ms/step - loss: 0.0022\n",
            "Epoch 81/100\n",
            "38/38 [==============================] - 4s 114ms/step - loss: 0.0023\n",
            "Epoch 82/100\n",
            "38/38 [==============================] - 4s 114ms/step - loss: 0.0023\n",
            "Epoch 83/100\n",
            "38/38 [==============================] - 4s 108ms/step - loss: 0.0026\n",
            "Epoch 84/100\n",
            "38/38 [==============================] - 4s 109ms/step - loss: 0.0023\n",
            "Epoch 85/100\n",
            "38/38 [==============================] - 4s 112ms/step - loss: 0.0024\n",
            "Epoch 86/100\n",
            "38/38 [==============================] - 4s 108ms/step - loss: 0.0024\n",
            "Epoch 87/100\n",
            "38/38 [==============================] - 4s 105ms/step - loss: 0.0027\n",
            "Epoch 88/100\n",
            "38/38 [==============================] - 4s 106ms/step - loss: 0.0022\n",
            "Epoch 89/100\n",
            "38/38 [==============================] - 4s 106ms/step - loss: 0.0025\n",
            "Epoch 90/100\n",
            "38/38 [==============================] - 4s 109ms/step - loss: 0.0022\n",
            "Epoch 91/100\n",
            "38/38 [==============================] - 4s 105ms/step - loss: 0.0026\n",
            "Epoch 92/100\n",
            "38/38 [==============================] - 4s 106ms/step - loss: 0.0022\n",
            "Epoch 93/100\n",
            "38/38 [==============================] - 4s 106ms/step - loss: 0.0022\n",
            "Epoch 94/100\n",
            "38/38 [==============================] - 4s 109ms/step - loss: 0.0022\n",
            "Epoch 95/100\n",
            "38/38 [==============================] - 4s 115ms/step - loss: 0.0024\n",
            "Epoch 96/100\n",
            "38/38 [==============================] - 4s 110ms/step - loss: 0.0023\n",
            "Epoch 97/100\n",
            "38/38 [==============================] - 4s 107ms/step - loss: 0.0022\n",
            "Epoch 98/100\n",
            "38/38 [==============================] - 4s 106ms/step - loss: 0.0020\n",
            "Epoch 99/100\n",
            "38/38 [==============================] - 4s 107ms/step - loss: 0.0021\n",
            "Epoch 100/100\n",
            "38/38 [==============================] - 4s 108ms/step - loss: 0.0020\n"
          ]
        },
        {
          "data": {
            "text/plain": [
              "<keras.src.callbacks.History at 0x16a101050>"
            ]
          },
          "execution_count": 23,
          "metadata": {},
          "output_type": "execute_result"
        }
      ],
      "source": [
        "model.fit(x_train, y_train, batch_size=32, epochs=100)"
      ]
    },
    {
      "cell_type": "markdown",
      "metadata": {
        "id": "72g8aanae44S"
      },
      "source": [
        "# Step 5: Making Predictions"
      ]
    },
    {
      "cell_type": "code",
      "execution_count": 26,
      "metadata": {
        "id": "jsvCdvmce6M9"
      },
      "outputs": [],
      "source": [
        "# getting the real stock prices of month Nov 2019\n",
        "test_data = pd.read_csv('test_set.csv')"
      ]
    },
    {
      "cell_type": "code",
      "execution_count": 27,
      "metadata": {
        "colab": {
          "base_uri": "https://localhost:8080/",
          "height": 34
        },
        "id": "jd-yFln4gFHc",
        "outputId": "c8cb818a-33c8-49f6-a26d-3cd5a7d8d7b3"
      },
      "outputs": [
        {
          "data": {
            "text/plain": [
              "(20, 7)"
            ]
          },
          "execution_count": 27,
          "metadata": {},
          "output_type": "execute_result"
        }
      ],
      "source": [
        "test_data.shape"
      ]
    },
    {
      "cell_type": "code",
      "execution_count": 28,
      "metadata": {
        "colab": {
          "base_uri": "https://localhost:8080/",
          "height": 228
        },
        "id": "YiYgPaQJgPs5",
        "outputId": "d7159d84-d263-4d88-9752-13f99e75b5c3"
      },
      "outputs": [
        {
          "name": "stdout",
          "output_type": "stream",
          "text": [
            "<class 'pandas.core.frame.DataFrame'>\n",
            "RangeIndex: 20 entries, 0 to 19\n",
            "Data columns (total 7 columns):\n",
            " #   Column     Non-Null Count  Dtype  \n",
            "---  ------     --------------  -----  \n",
            " 0   Date       20 non-null     object \n",
            " 1   Open       20 non-null     float64\n",
            " 2   High       20 non-null     float64\n",
            " 3   Low        20 non-null     float64\n",
            " 4   Close      20 non-null     float64\n",
            " 5   Adj Close  20 non-null     float64\n",
            " 6   Volume     20 non-null     int64  \n",
            "dtypes: float64(5), int64(1), object(1)\n",
            "memory usage: 1.2+ KB\n"
          ]
        }
      ],
      "source": [
        "test_data.info()"
      ]
    },
    {
      "cell_type": "code",
      "execution_count": 29,
      "metadata": {
        "id": "xj3SRrK2geDR"
      },
      "outputs": [],
      "source": [
        "real_stock_price = test_data.iloc[:, 1:2].values"
      ]
    },
    {
      "cell_type": "code",
      "execution_count": 30,
      "metadata": {
        "colab": {
          "base_uri": "https://localhost:8080/",
          "height": 34
        },
        "id": "wJ47LYTmg5Uk",
        "outputId": "cdf84ea3-f723-44d2-a3db-ef165e0976d4"
      },
      "outputs": [
        {
          "data": {
            "text/plain": [
              "(20, 1)"
            ]
          },
          "execution_count": 30,
          "metadata": {},
          "output_type": "execute_result"
        }
      ],
      "source": [
        "real_stock_price.shape"
      ]
    },
    {
      "cell_type": "code",
      "execution_count": 31,
      "metadata": {
        "id": "etY_VcOT2YyK"
      },
      "outputs": [
        {
          "name": "stdout",
          "output_type": "stream",
          "text": [
            "1/1 [==============================] - 0s 480ms/step\n"
          ]
        }
      ],
      "source": [
        "# Getting predicted stock prices of month Nov 2019\n",
        "\n",
        "# concatination\n",
        "dataset_total = pd.concat((training_data['Open'], test_data['Open']), axis = 0)\n",
        "\n",
        "# stock prices of previous 60 days for each day of Nov 2019\n",
        "inputs = dataset_total[len(dataset_total) - len(test_data) - 60:].values\n",
        "\n",
        "# reshape (convert into numpy array)\n",
        "inputs = inputs.reshape(-1,1)\n",
        "\n",
        "# feature scaling\n",
        "inputs = sc.transform(inputs)\n",
        "\n",
        "# creating a test set\n",
        "\n",
        "x_test = []\n",
        "for i in range(60, 80):\n",
        "  x_test.append(inputs[i-60:i, 0])\n",
        "\n",
        "# convert in numpy array\n",
        "x_test = np.array(x_test)\n",
        "\n",
        "# convert in 3D (required to process)\n",
        "x_test = np.reshape(x_test, (x_test.shape[0], x_test.shape[1], 1))\n",
        "\n",
        "# getting predicted stock prices\n",
        "predicted_stock_price = model.predict(x_test)\n",
        "predicted_stock_price = sc.inverse_transform(predicted_stock_price)"
      ]
    },
    {
      "cell_type": "code",
      "execution_count": 32,
      "metadata": {
        "colab": {
          "base_uri": "https://localhost:8080/",
          "height": 70
        },
        "id": "r0d2yWye3Kje",
        "outputId": "7adf5e0a-ec11-460d-b502-c4936d48b43e"
      },
      "outputs": [
        {
          "name": "stdout",
          "output_type": "stream",
          "text": [
            "[1252.0077]\n",
            "[1305.280029]\n"
          ]
        },
        {
          "data": {
            "text/plain": [
              "(None, None)"
            ]
          },
          "execution_count": 32,
          "metadata": {},
          "output_type": "execute_result"
        }
      ],
      "source": [
        "print(predicted_stock_price[5]), print(real_stock_price[5])"
      ]
    },
    {
      "cell_type": "markdown",
      "metadata": {
        "id": "0UY7jWXa344K"
      },
      "source": [
        "# Step 6: Visualization"
      ]
    },
    {
      "cell_type": "code",
      "execution_count": 33,
      "metadata": {
        "colab": {
          "base_uri": "https://localhost:8080/",
          "height": 295
        },
        "id": "0ueqGteg5TkS",
        "outputId": "ad1a7b47-0b9e-4e6b-8411-9bb547c6db19"
      },
      "outputs": [
        {
          "data": {
            "image/png": "[encoded data removed]",
            "text/plain": [
              "<Figure size 640x480 with 1 Axes>"
            ]
          },
          "metadata": {},
          "output_type": "display_data"
        }
      ],
      "source": [
        "# Visualising the results\n",
        "plt.plot(real_stock_price, color='red', label='Real Google Stock Price')\n",
        "plt.plot(predicted_stock_price, color='blue', label='Predicted Google Stock Price')\n",
        "plt.title('Google Stock Price Prediction')\n",
        "plt.xlabel('Time')\n",
        "plt.ylabel('Google Stock Price')\n",
        "plt.legend()\n",
        "plt.show()"
      ]
    },
    {
      "cell_type": "code",
      "execution_count": null,
      "metadata": {},
      "outputs": [],
      "source": []
    }
  ],
  "metadata": {
    "colab": {
      "provenance": [],
      "toc_visible": true
    },
    "kernelspec": {
      "display_name": "Python 3",
      "name": "python3"
    },
    "language_info": {
      "codemirror_mode": {
        "name": "ipython",
        "version": 3
      },
      "file_extension": ".py",
      "mimetype": "text/x-python",
      "name": "python",
      "nbconvert_exporter": "python",
      "pygments_lexer": "ipython3",
      "version": "3.11.4"
    }
  },
  "nbformat": 4,
  "nbformat_minor": 0
}
