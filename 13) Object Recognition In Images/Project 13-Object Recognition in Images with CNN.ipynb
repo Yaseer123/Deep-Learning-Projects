{
 "cells": [
  {
   "cell_type": "markdown",
   "id": "8c659c82",
   "metadata": {},
   "source": [
    "# Step 1 : Installation and Setup"
   ]
  },
  {
   "cell_type": "markdown",
   "id": "2df13834",
   "metadata": {},
   "source": [
    "## Installing Tensorflow\n"
   ]
  },
  {
   "cell_type": "code",
   "execution_count": 1,
   "id": "7d086c09",
   "metadata": {},
   "outputs": [
    {
     "name": "stdout",
     "output_type": "stream",
     "text": [
      "Requirement already satisfied: tensorflow in /Users/yaseerarafatkhan/anaconda3/lib/python3.11/site-packages (2.13.0)\n",
      "Requirement already satisfied: tensorflow-macos==2.13.0 in /Users/yaseerarafatkhan/anaconda3/lib/python3.11/site-packages (from tensorflow) (2.13.0)\n",
      "Requirement already satisfied: absl-py>=1.0.0 in /Users/yaseerarafatkhan/anaconda3/lib/python3.11/site-packages (from tensorflow-macos==2.13.0->tensorflow) (2.0.0)\n",
      "Requirement already satisfied: astunparse>=1.6.0 in /Users/yaseerarafatkhan/anaconda3/lib/python3.11/site-packages (from tensorflow-macos==2.13.0->tensorflow) (1.6.3)\n",
      "Requirement already satisfied: flatbuffers>=23.1.21 in /Users/yaseerarafatkhan/anaconda3/lib/python3.11/site-packages (from tensorflow-macos==2.13.0->tensorflow) (23.5.26)\n",
      "Requirement already satisfied: gast<=0.4.0,>=0.2.1 in /Users/yaseerarafatkhan/anaconda3/lib/python3.11/site-packages (from tensorflow-macos==2.13.0->tensorflow) (0.4.0)\n",
      "Requirement already satisfied: google-pasta>=0.1.1 in /Users/yaseerarafatkhan/anaconda3/lib/python3.11/site-packages (from tensorflow-macos==2.13.0->tensorflow) (0.2.0)\n",
      "Requirement already satisfied: h5py>=2.9.0 in /Users/yaseerarafatkhan/anaconda3/lib/python3.11/site-packages (from tensorflow-macos==2.13.0->tensorflow) (3.7.0)\n",
      "Requirement already satisfied: libclang>=13.0.0 in /Users/yaseerarafatkhan/anaconda3/lib/python3.11/site-packages (from tensorflow-macos==2.13.0->tensorflow) (16.0.6)\n",
      "Requirement already satisfied: numpy<=1.24.3,>=1.22 in /Users/yaseerarafatkhan/anaconda3/lib/python3.11/site-packages (from tensorflow-macos==2.13.0->tensorflow) (1.24.3)\n",
      "Requirement already satisfied: opt-einsum>=2.3.2 in /Users/yaseerarafatkhan/anaconda3/lib/python3.11/site-packages (from tensorflow-macos==2.13.0->tensorflow) (3.3.0)\n",
      "Requirement already satisfied: packaging in /Users/yaseerarafatkhan/anaconda3/lib/python3.11/site-packages (from tensorflow-macos==2.13.0->tensorflow) (23.0)\n",
      "Requirement already satisfied: protobuf!=4.21.0,!=4.21.1,!=4.21.2,!=4.21.3,!=4.21.4,!=4.21.5,<5.0.0dev,>=3.20.3 in /Users/yaseerarafatkhan/anaconda3/lib/python3.11/site-packages (from tensorflow-macos==2.13.0->tensorflow) (4.24.3)\n",
      "Requirement already satisfied: setuptools in /Users/yaseerarafatkhan/anaconda3/lib/python3.11/site-packages (from tensorflow-macos==2.13.0->tensorflow) (68.0.0)\n",
      "Requirement already satisfied: six>=1.12.0 in /Users/yaseerarafatkhan/anaconda3/lib/python3.11/site-packages (from tensorflow-macos==2.13.0->tensorflow) (1.16.0)\n",
      "Requirement already satisfied: termcolor>=1.1.0 in /Users/yaseerarafatkhan/anaconda3/lib/python3.11/site-packages (from tensorflow-macos==2.13.0->tensorflow) (2.3.0)\n",
      "Requirement already satisfied: typing-extensions<4.6.0,>=3.6.6 in /Users/yaseerarafatkhan/anaconda3/lib/python3.11/site-packages (from tensorflow-macos==2.13.0->tensorflow) (4.5.0)\n",
      "Requirement already satisfied: wrapt>=1.11.0 in /Users/yaseerarafatkhan/anaconda3/lib/python3.11/site-packages (from tensorflow-macos==2.13.0->tensorflow) (1.14.1)\n",
      "Requirement already satisfied: grpcio<2.0,>=1.24.3 in /Users/yaseerarafatkhan/anaconda3/lib/python3.11/site-packages (from tensorflow-macos==2.13.0->tensorflow) (1.58.0)\n",
      "Requirement already satisfied: tensorboard<2.14,>=2.13 in /Users/yaseerarafatkhan/anaconda3/lib/python3.11/site-packages (from tensorflow-macos==2.13.0->tensorflow) (2.13.0)\n",
      "Requirement already satisfied: tensorflow-estimator<2.14,>=2.13.0 in /Users/yaseerarafatkhan/anaconda3/lib/python3.11/site-packages (from tensorflow-macos==2.13.0->tensorflow) (2.13.0)\n",
      "Requirement already satisfied: keras<2.14,>=2.13.1 in /Users/yaseerarafatkhan/anaconda3/lib/python3.11/site-packages (from tensorflow-macos==2.13.0->tensorflow) (2.13.1)\n",
      "Requirement already satisfied: wheel<1.0,>=0.23.0 in /Users/yaseerarafatkhan/anaconda3/lib/python3.11/site-packages (from astunparse>=1.6.0->tensorflow-macos==2.13.0->tensorflow) (0.38.4)\n",
      "Requirement already satisfied: google-auth<3,>=1.6.3 in /Users/yaseerarafatkhan/anaconda3/lib/python3.11/site-packages (from tensorboard<2.14,>=2.13->tensorflow-macos==2.13.0->tensorflow) (2.23.1)\n",
      "Requirement already satisfied: google-auth-oauthlib<1.1,>=0.5 in /Users/yaseerarafatkhan/anaconda3/lib/python3.11/site-packages (from tensorboard<2.14,>=2.13->tensorflow-macos==2.13.0->tensorflow) (1.0.0)\n",
      "Requirement already satisfied: markdown>=2.6.8 in /Users/yaseerarafatkhan/anaconda3/lib/python3.11/site-packages (from tensorboard<2.14,>=2.13->tensorflow-macos==2.13.0->tensorflow) (3.4.1)\n",
      "Requirement already satisfied: requests<3,>=2.21.0 in /Users/yaseerarafatkhan/anaconda3/lib/python3.11/site-packages (from tensorboard<2.14,>=2.13->tensorflow-macos==2.13.0->tensorflow) (2.31.0)\n",
      "Requirement already satisfied: tensorboard-data-server<0.8.0,>=0.7.0 in /Users/yaseerarafatkhan/anaconda3/lib/python3.11/site-packages (from tensorboard<2.14,>=2.13->tensorflow-macos==2.13.0->tensorflow) (0.7.1)\n",
      "Requirement already satisfied: werkzeug>=1.0.1 in /Users/yaseerarafatkhan/anaconda3/lib/python3.11/site-packages (from tensorboard<2.14,>=2.13->tensorflow-macos==2.13.0->tensorflow) (2.2.3)\n",
      "Requirement already satisfied: cachetools<6.0,>=2.0.0 in /Users/yaseerarafatkhan/anaconda3/lib/python3.11/site-packages (from google-auth<3,>=1.6.3->tensorboard<2.14,>=2.13->tensorflow-macos==2.13.0->tensorflow) (5.3.1)\n",
      "Requirement already satisfied: pyasn1-modules>=0.2.1 in /Users/yaseerarafatkhan/anaconda3/lib/python3.11/site-packages (from google-auth<3,>=1.6.3->tensorboard<2.14,>=2.13->tensorflow-macos==2.13.0->tensorflow) (0.2.8)\n",
      "Requirement already satisfied: rsa<5,>=3.1.4 in /Users/yaseerarafatkhan/anaconda3/lib/python3.11/site-packages (from google-auth<3,>=1.6.3->tensorboard<2.14,>=2.13->tensorflow-macos==2.13.0->tensorflow) (4.9)\n",
      "Requirement already satisfied: urllib3>=2.0.5 in /Users/yaseerarafatkhan/anaconda3/lib/python3.11/site-packages (from google-auth<3,>=1.6.3->tensorboard<2.14,>=2.13->tensorflow-macos==2.13.0->tensorflow) (2.0.5)\n",
      "Requirement already satisfied: requests-oauthlib>=0.7.0 in /Users/yaseerarafatkhan/anaconda3/lib/python3.11/site-packages (from google-auth-oauthlib<1.1,>=0.5->tensorboard<2.14,>=2.13->tensorflow-macos==2.13.0->tensorflow) (1.3.1)\n",
      "Requirement already satisfied: charset-normalizer<4,>=2 in /Users/yaseerarafatkhan/anaconda3/lib/python3.11/site-packages (from requests<3,>=2.21.0->tensorboard<2.14,>=2.13->tensorflow-macos==2.13.0->tensorflow) (2.0.4)\n",
      "Requirement already satisfied: idna<4,>=2.5 in /Users/yaseerarafatkhan/anaconda3/lib/python3.11/site-packages (from requests<3,>=2.21.0->tensorboard<2.14,>=2.13->tensorflow-macos==2.13.0->tensorflow) (3.4)\n",
      "Requirement already satisfied: certifi>=2017.4.17 in /Users/yaseerarafatkhan/anaconda3/lib/python3.11/site-packages (from requests<3,>=2.21.0->tensorboard<2.14,>=2.13->tensorflow-macos==2.13.0->tensorflow) (2023.7.22)\n",
      "Requirement already satisfied: MarkupSafe>=2.1.1 in /Users/yaseerarafatkhan/anaconda3/lib/python3.11/site-packages (from werkzeug>=1.0.1->tensorboard<2.14,>=2.13->tensorflow-macos==2.13.0->tensorflow) (2.1.1)\n",
      "Requirement already satisfied: pyasn1<0.5.0,>=0.4.6 in /Users/yaseerarafatkhan/anaconda3/lib/python3.11/site-packages (from pyasn1-modules>=0.2.1->google-auth<3,>=1.6.3->tensorboard<2.14,>=2.13->tensorflow-macos==2.13.0->tensorflow) (0.4.8)\n",
      "Requirement already satisfied: oauthlib>=3.0.0 in /Users/yaseerarafatkhan/anaconda3/lib/python3.11/site-packages (from requests-oauthlib>=0.7.0->google-auth-oauthlib<1.1,>=0.5->tensorboard<2.14,>=2.13->tensorflow-macos==2.13.0->tensorflow) (3.2.2)\n",
      "Note: you may need to restart the kernel to use updated packages.\n"
     ]
    }
   ],
   "source": [
    "pip install tensorflow"
   ]
  },
  {
   "cell_type": "code",
   "execution_count": 2,
   "id": "67971629",
   "metadata": {},
   "outputs": [],
   "source": [
    "import tensorflow as tf\n"
   ]
  },
  {
   "cell_type": "code",
   "execution_count": 3,
   "id": "4fe28b1b",
   "metadata": {},
   "outputs": [
    {
     "data": {
      "text/plain": [
       "'2.13.0'"
      ]
     },
     "execution_count": 3,
     "metadata": {},
     "output_type": "execute_result"
    }
   ],
   "source": [
    "tf.__version__"
   ]
  },
  {
   "cell_type": "markdown",
   "id": "dbc8dc0c",
   "metadata": {},
   "source": [
    "## Importing Libraries"
   ]
  },
  {
   "cell_type": "code",
   "execution_count": 4,
   "id": "b66408f2",
   "metadata": {},
   "outputs": [],
   "source": [
    "import numpy as np\n",
    "import pandas as pd\n",
    "import matplotlib.pyplot as plt"
   ]
  },
  {
   "cell_type": "markdown",
   "id": "0dafefb4",
   "metadata": {},
   "source": [
    "# Step 2: Data Preprocessing"
   ]
  },
  {
   "cell_type": "code",
   "execution_count": 5,
   "id": "91e15001",
   "metadata": {},
   "outputs": [],
   "source": [
    "# importing the dataset\n",
    "from tensorflow.keras.datasets import cifar10"
   ]
  },
  {
   "cell_type": "code",
   "execution_count": 6,
   "id": "3994c79d",
   "metadata": {},
   "outputs": [],
   "source": [
    "# load the dataset\n",
    "(x_train,y_train),(x_test,y_test)= cifar10.load_data()"
   ]
  },
  {
   "cell_type": "code",
   "execution_count": 7,
   "id": "8aa0a779",
   "metadata": {},
   "outputs": [],
   "source": [
    "class_names = [\"0: airplane\", \n",
    "\"1: automobile\",\n",
    "\"2: bird\" ,\n",
    "\"3: cat\" ,\n",
    "\"4: deer\" ,\n",
    "'5: dog' ,\n",
    "'6: frog' ,\n",
    "'7: horse' ,\n",
    "'8: ship' ,\n",
    "'9: truck']"
   ]
  },
  {
   "cell_type": "code",
   "execution_count": 8,
   "id": "a26e31fa",
   "metadata": {},
   "outputs": [
    {
     "data": {
      "text/plain": [
       "['0: airplane',\n",
       " '1: automobile',\n",
       " '2: bird',\n",
       " '3: cat',\n",
       " '4: deer',\n",
       " '5: dog',\n",
       " '6: frog',\n",
       " '7: horse',\n",
       " '8: ship',\n",
       " '9: truck']"
      ]
     },
     "execution_count": 8,
     "metadata": {},
     "output_type": "execute_result"
    }
   ],
   "source": [
    "class_names"
   ]
  },
  {
   "cell_type": "code",
   "execution_count": 9,
   "id": "1080534b",
   "metadata": {},
   "outputs": [
    {
     "data": {
      "text/plain": [
       "(255, 0, 120.70756512369792)"
      ]
     },
     "execution_count": 9,
     "metadata": {},
     "output_type": "execute_result"
    }
   ],
   "source": [
    "x_train.max(),x_train.min(),x_train.mean()"
   ]
  },
  {
   "cell_type": "code",
   "execution_count": 10,
   "id": "fc01aca1",
   "metadata": {},
   "outputs": [
    {
     "data": {
      "text/plain": [
       "(9, 0, 4.5)"
      ]
     },
     "execution_count": 10,
     "metadata": {},
     "output_type": "execute_result"
    }
   ],
   "source": [
    "y_train.max(),y_train.min(),y_train.mean()"
   ]
  },
  {
   "cell_type": "code",
   "execution_count": 11,
   "id": "ad3e6ad3",
   "metadata": {},
   "outputs": [],
   "source": [
    "#normalizing the images\n",
    "x_train=x_train/255\n",
    "x_test=x_test/255"
   ]
  },
  {
   "cell_type": "code",
   "execution_count": 12,
   "id": "8804b48c",
   "metadata": {},
   "outputs": [
    {
     "data": {
      "text/plain": [
       "(1.0, 0.0, 0.4733630004850874)"
      ]
     },
     "execution_count": 12,
     "metadata": {},
     "output_type": "execute_result"
    }
   ],
   "source": [
    "x_train.max(),x_train.min(),x_train.mean()"
   ]
  },
  {
   "cell_type": "code",
   "execution_count": 13,
   "id": "93cea7e6",
   "metadata": {},
   "outputs": [
    {
     "data": {
      "text/plain": [
       "((50000, 32, 32, 3), (10000, 32, 32, 3))"
      ]
     },
     "execution_count": 13,
     "metadata": {},
     "output_type": "execute_result"
    }
   ],
   "source": [
    "x_train.shape,x_test.shape"
   ]
  },
  {
   "cell_type": "code",
   "execution_count": 14,
   "id": "72a3e774",
   "metadata": {},
   "outputs": [
    {
     "data": {
      "text/plain": [
       "<matplotlib.image.AxesImage at 0x17a74a410>"
      ]
     },
     "execution_count": 14,
     "metadata": {},
     "output_type": "execute_result"
    },
    {
     "data": {
      "image/png": "[encoded data removed]",
      "text/plain": [
       "<Figure size 640x480 with 1 Axes>"
      ]
     },
     "metadata": {},
     "output_type": "display_data"
    }
   ],
   "source": [
    "plt.imshow(x_train[0])"
   ]
  },
  {
   "cell_type": "code",
   "execution_count": 15,
   "id": "fc55abd5",
   "metadata": {},
   "outputs": [
    {
     "data": {
      "text/plain": [
       "array([6], dtype=uint8)"
      ]
     },
     "execution_count": 15,
     "metadata": {},
     "output_type": "execute_result"
    }
   ],
   "source": [
    "y_train[0]"
   ]
  },
  {
   "cell_type": "code",
   "execution_count": 16,
   "id": "ada9d305",
   "metadata": {},
   "outputs": [
    {
     "data": {
      "text/plain": [
       "['0: airplane',\n",
       " '1: automobile',\n",
       " '2: bird',\n",
       " '3: cat',\n",
       " '4: deer',\n",
       " '5: dog',\n",
       " '6: frog',\n",
       " '7: horse',\n",
       " '8: ship',\n",
       " '9: truck']"
      ]
     },
     "execution_count": 16,
     "metadata": {},
     "output_type": "execute_result"
    }
   ],
   "source": [
    "class_names"
   ]
  },
  {
   "cell_type": "markdown",
   "id": "e8b69588",
   "metadata": {},
   "source": [
    "# Building the CNN"
   ]
  },
  {
   "cell_type": "code",
   "execution_count": 17,
   "id": "1696a925",
   "metadata": {},
   "outputs": [],
   "source": [
    "# Defining the object"
   ]
  },
  {
   "cell_type": "code",
   "execution_count": 18,
   "id": "a89645ae",
   "metadata": {},
   "outputs": [],
   "source": [
    "model= tf.keras.models.Sequential()"
   ]
  },
  {
   "cell_type": "code",
   "execution_count": 19,
   "id": "089e06b6",
   "metadata": {},
   "outputs": [],
   "source": [
    "#ADDING the first CNN layer\n",
    "#1)filters(kernels)=32\n",
    "#2)kernel size =3 \n",
    "#3)padding = same\n",
    "#4)activation function = relu\n",
    "#5)input shape = (32,32,3)\n",
    "model.add(tf.keras.layers.Conv2D(filters=32,kernel_size=3,padding=\"same\",activation=\"relu\",input_shape=[32,32,3]))"
   ]
  },
  {
   "cell_type": "code",
   "execution_count": 20,
   "id": "8b95dd69",
   "metadata": {},
   "outputs": [],
   "source": [
    "#Adding the second CNN layer and maxpool layer\n",
    "#1)filters(kernels)=32\n",
    "#2)kernel size =3 \n",
    "#3)padding = same\n",
    "#4)activation function = relu\n",
    "model.add(tf.keras.layers.Conv2D(filters=32,kernel_size=3,padding=\"same\",activation=\"relu\"))\n",
    "\n",
    "# maxpool layer parameters\n",
    "#1)pool_size =2\n",
    "#2)strides = 2\n",
    "#3)padding= valid\n",
    "model.add(tf.keras.layers.MaxPool2D(pool_size =2,strides = 2,padding= \"valid\"))"
   ]
  },
  {
   "cell_type": "code",
   "execution_count": 21,
   "id": "15ceaa8e",
   "metadata": {},
   "outputs": [],
   "source": [
    "# Adding third CNN layer\n",
    "#1)filters(kernels)=64\n",
    "#2)kernel size =3 \n",
    "#3)padding = same\n",
    "#4)activation function = relu\n",
    "model.add(tf.keras.layers.Conv2D(filters=64,kernel_size=3,padding=\"same\",activation=\"relu\"))"
   ]
  },
  {
   "cell_type": "code",
   "execution_count": 22,
   "id": "17064b06",
   "metadata": {},
   "outputs": [],
   "source": [
    "#Adding the Fourth CNN layer and Second maxpool layer\n",
    "#1)filters(kernels)=64\n",
    "#2)kernel size =3 \n",
    "#3)padding = same\n",
    "#4)activation function = relu\n",
    "model.add(tf.keras.layers.Conv2D(filters=64,kernel_size=3,padding=\"same\",activation=\"relu\"))\n",
    "\n",
    "# maxpool layer parameters\n",
    "#1)pool_size =2\n",
    "#2)strides = 2\n",
    "#3)padding= valid\n",
    "model.add(tf.keras.layers.MaxPool2D(pool_size =2,strides = 2,padding= \"valid\"))"
   ]
  },
  {
   "cell_type": "code",
   "execution_count": 23,
   "id": "e2818dba",
   "metadata": {},
   "outputs": [],
   "source": [
    "# Adding the dropout layer\n",
    "model.add(tf.keras.layers.Dropout(0.4))"
   ]
  },
  {
   "cell_type": "code",
   "execution_count": 24,
   "id": "c1190771",
   "metadata": {},
   "outputs": [],
   "source": [
    "# Adding the Flattening layer\n",
    "model.add(tf.keras.layers.Flatten())"
   ]
  },
  {
   "cell_type": "code",
   "execution_count": 25,
   "id": "42fed785",
   "metadata": {},
   "outputs": [],
   "source": [
    "#Adding first dense layer\n",
    "model.add(tf.keras.layers.Dense(units=128,activation=\"relu\"))"
   ]
  },
  {
   "cell_type": "code",
   "execution_count": 26,
   "id": "2b22d022",
   "metadata": {},
   "outputs": [],
   "source": [
    "#Adding second dense layer(OUTPUT)\n",
    "model.add(tf.keras.layers.Dense(units=10,activation=\"softmax\"))"
   ]
  },
  {
   "cell_type": "code",
   "execution_count": 27,
   "id": "5e62f32c",
   "metadata": {},
   "outputs": [
    {
     "name": "stdout",
     "output_type": "stream",
     "text": [
      "Model: \"sequential\"\n",
      "_________________________________________________________________\n",
      " Layer (type)                Output Shape              Param #   \n",
      "=================================================================\n",
      " conv2d (Conv2D)             (None, 32, 32, 32)        896       \n",
      "                                                                 \n",
      " conv2d_1 (Conv2D)           (None, 32, 32, 32)        9248      \n",
      "                                                                 \n",
      " max_pooling2d (MaxPooling2  (None, 16, 16, 32)        0         \n",
      " D)                                                              \n",
      "                                                                 \n",
      " conv2d_2 (Conv2D)           (None, 16, 16, 64)        18496     \n",
      "                                                                 \n",
      " conv2d_3 (Conv2D)           (None, 16, 16, 64)        36928     \n",
      "                                                                 \n",
      " max_pooling2d_1 (MaxPoolin  (None, 8, 8, 64)          0         \n",
      " g2D)                                                            \n",
      "                                                                 \n",
      " dropout (Dropout)           (None, 8, 8, 64)          0         \n",
      "                                                                 \n",
      " flatten (Flatten)           (None, 4096)              0         \n",
      "                                                                 \n",
      " dense (Dense)               (None, 128)               524416    \n",
      "                                                                 \n",
      " dense_1 (Dense)             (None, 10)                1290      \n",
      "                                                                 \n",
      "=================================================================\n",
      "Total params: 591274 (2.26 MB)\n",
      "Trainable params: 591274 (2.26 MB)\n",
      "Non-trainable params: 0 (0.00 Byte)\n",
      "_________________________________________________________________\n"
     ]
    }
   ],
   "source": [
    "model.summary()"
   ]
  },
  {
   "cell_type": "markdown",
   "id": "4611cda5",
   "metadata": {},
   "source": [
    "# Step 4: Training the model"
   ]
  },
  {
   "cell_type": "code",
   "execution_count": 28,
   "id": "126f3eeb",
   "metadata": {},
   "outputs": [],
   "source": [
    "#compiling the model\n",
    "model.compile(optimizer=\"adam\",loss=\"sparse_categorical_crossentropy\",metrics=[\"sparse_categorical_accuracy\"])"
   ]
  },
  {
   "cell_type": "code",
   "execution_count": 29,
   "id": "c8aa8377",
   "metadata": {},
   "outputs": [
    {
     "name": "stdout",
     "output_type": "stream",
     "text": [
      "Epoch 1/10\n",
      "5000/5000 [==============================] - 104s 21ms/step - loss: 1.3487 - sparse_categorical_accuracy: 0.5109\n",
      "Epoch 2/10\n",
      "5000/5000 [==============================] - 107s 21ms/step - loss: 0.9779 - sparse_categorical_accuracy: 0.6562\n",
      "Epoch 3/10\n",
      "5000/5000 [==============================] - 109s 22ms/step - loss: 0.8429 - sparse_categorical_accuracy: 0.7035\n",
      "Epoch 4/10\n",
      "5000/5000 [==============================] - 116s 23ms/step - loss: 0.7572 - sparse_categorical_accuracy: 0.7339\n",
      "Epoch 5/10\n",
      "5000/5000 [==============================] - 111s 22ms/step - loss: 0.6968 - sparse_categorical_accuracy: 0.7558\n",
      "Epoch 6/10\n",
      "5000/5000 [==============================] - 115s 23ms/step - loss: 0.6472 - sparse_categorical_accuracy: 0.7710\n",
      "Epoch 7/10\n",
      "5000/5000 [==============================] - 117s 23ms/step - loss: 0.6091 - sparse_categorical_accuracy: 0.7863\n",
      "Epoch 8/10\n",
      "5000/5000 [==============================] - 120s 24ms/step - loss: 0.5657 - sparse_categorical_accuracy: 0.7999\n",
      "Epoch 9/10\n",
      "5000/5000 [==============================] - 121s 24ms/step - loss: 0.5400 - sparse_categorical_accuracy: 0.8117\n",
      "Epoch 10/10\n",
      "5000/5000 [==============================] - 112s 22ms/step - loss: 0.5114 - sparse_categorical_accuracy: 0.8215\n"
     ]
    },
    {
     "data": {
      "text/plain": [
       "<keras.src.callbacks.History at 0x17afa5210>"
      ]
     },
     "execution_count": 29,
     "metadata": {},
     "output_type": "execute_result"
    }
   ],
   "source": [
    "model.fit(x_train,y_train,batch_size=10,epochs=10)"
   ]
  },
  {
   "cell_type": "markdown",
   "id": "8270dbce",
   "metadata": {},
   "source": [
    "# Model Evaluation and Prediction"
   ]
  },
  {
   "cell_type": "code",
   "execution_count": 30,
   "id": "d3483db7",
   "metadata": {},
   "outputs": [],
   "source": [
    "# evaluate the model performance"
   ]
  },
  {
   "cell_type": "code",
   "execution_count": 31,
   "id": "86f81394",
   "metadata": {},
   "outputs": [
    {
     "name": "stdout",
     "output_type": "stream",
     "text": [
      "313/313 [==============================] - 5s 16ms/step - loss: 0.7483 - sparse_categorical_accuracy: 0.7550\n"
     ]
    }
   ],
   "source": [
    "test_loss,test_accuracy = model.evaluate(x_test,y_test)"
   ]
  },
  {
   "cell_type": "code",
   "execution_count": 33,
   "id": "ede147fc",
   "metadata": {},
   "outputs": [
    {
     "name": "stdout",
     "output_type": "stream",
     "text": [
      "Test Accuracy is: 0.7549999952316284\n"
     ]
    }
   ],
   "source": [
    "print('Test Accuracy is: {}'.format(test_accuracy))"
   ]
  },
  {
   "cell_type": "code",
   "execution_count": 36,
   "id": "a23791de",
   "metadata": {},
   "outputs": [
    {
     "name": "stdout",
     "output_type": "stream",
     "text": [
      "313/313 [==============================] - 5s 16ms/step\n"
     ]
    }
   ],
   "source": [
    "# Model prediction\n",
    "y_pred_probs = model.predict(x_test)  # Get predicted probabilities for each class\n",
    "\n",
    "# Extract the class with the highest probability as the predicted class\n",
    "y_pred = np.argmax(y_pred_probs, axis=-1)\n"
   ]
  },
  {
   "cell_type": "code",
   "execution_count": 37,
   "id": "cbc4cd55",
   "metadata": {},
   "outputs": [
    {
     "name": "stdout",
     "output_type": "stream",
     "text": [
      "3\n",
      "[3]\n"
     ]
    },
    {
     "data": {
      "text/plain": [
       "(None, None)"
      ]
     },
     "execution_count": 37,
     "metadata": {},
     "output_type": "execute_result"
    }
   ],
   "source": [
    "print(y_pred[0]), print(y_test[0])"
   ]
  },
  {
   "cell_type": "code",
   "execution_count": 38,
   "id": "985a2842",
   "metadata": {},
   "outputs": [
    {
     "name": "stdout",
     "output_type": "stream",
     "text": [
      "[[803   5  48  11  27   5  12  10  42  37]\n",
      " [ 16 869   2   2   6   6   9   3  17  70]\n",
      " [ 72   2 570  30 109  54  96  41  16  10]\n",
      " [ 20   4  56 445  90 149 137  66  16  17]\n",
      " [ 19   4  28  29 735  25  82  72   6   0]\n",
      " [  8   1  32 110  49 676  46  61   5  12]\n",
      " [  8   4  20  27  20  14 894   4   7   2]\n",
      " [ 14   1  24  20  43  37   8 836   3  14]\n",
      " [ 51  27   8   6   4   3   7   6 867  21]\n",
      " [ 20  64   5   7   3   4   5  12  25 855]]\n"
     ]
    }
   ],
   "source": [
    "# Confusion matrix\n",
    "\n",
    "from sklearn.metrics import confusion_matrix, accuracy_score\n",
    "cm = confusion_matrix(y_test, y_pred)\n",
    "print(cm)"
   ]
  },
  {
   "cell_type": "code",
   "execution_count": 39,
   "id": "f91eff08",
   "metadata": {},
   "outputs": [
    {
     "name": "stdout",
     "output_type": "stream",
     "text": [
      "0.755\n"
     ]
    }
   ],
   "source": [
    "acc_cm = accuracy_score(y_test, y_pred)\n",
    "print(acc_cm)"
   ]
  },
  {
   "cell_type": "code",
   "execution_count": null,
   "id": "0abdfbe8",
   "metadata": {},
   "outputs": [],
   "source": []
  }
 ],
 "metadata": {
  "kernelspec": {
   "display_name": "Python 3 (ipykernel)",
   "language": "python",
   "name": "python3"
  },
  "language_info": {
   "codemirror_mode": {
    "name": "ipython",
    "version": 3
   },
   "file_extension": ".py",
   "mimetype": "text/x-python",
   "name": "python",
   "nbconvert_exporter": "python",
   "pygments_lexer": "ipython3",
   "version": "3.11.4"
  }
 },
 "nbformat": 4,
 "nbformat_minor": 5
}
