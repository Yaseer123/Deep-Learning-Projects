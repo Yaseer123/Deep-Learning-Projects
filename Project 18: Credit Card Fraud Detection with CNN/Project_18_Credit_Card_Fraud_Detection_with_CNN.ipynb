{
  "cells": [
    {
      "cell_type": "markdown",
      "metadata": {
        "id": "jXdECu1KDkY-"
      },
      "source": [
        "# Step 1: Installation and Setup"
      ]
    },
    {
      "cell_type": "code",
      "execution_count": 1,
      "metadata": {
        "id": "Y4-xnDWqFtYy"
      },
      "outputs": [],
      "source": [
        "import tensorflow as tf"
      ]
    },
    {
      "cell_type": "code",
      "execution_count": 2,
      "metadata": {
        "colab": {
          "base_uri": "https://localhost:8080/",
          "height": 34
        },
        "id": "i_T3tBpbFxRt",
        "outputId": "e2a7e4af-7bad-4d29-adb0-c01495e5e844"
      },
      "outputs": [
        {
          "name": "stdout",
          "output_type": "stream",
          "text": [
            "2.13.0\n"
          ]
        }
      ],
      "source": [
        "print(tf.__version__)"
      ]
    },
    {
      "cell_type": "code",
      "execution_count": 3,
      "metadata": {
        "id": "WOik7ELbF15N"
      },
      "outputs": [],
      "source": [
        "import numpy as np\n",
        "import pandas as pd\n",
        "import matplotlib.pyplot as plt"
      ]
    },
    {
      "cell_type": "markdown",
      "metadata": {
        "id": "lE8bYkSOGAnd"
      },
      "source": [
        "# Step 2: Importing the dataset from kaggle to google colab"
      ]
    },
    {
      "cell_type": "code",
      "execution_count": 4,
      "metadata": {
        "colab": {
          "base_uri": "https://localhost:8080/",
          "height": 230
        },
        "id": "U1webAICGQMM",
        "outputId": "933af404-b39d-4a85-e444-2dadf279feab"
      },
      "outputs": [
        {
          "name": "stdout",
          "output_type": "stream",
          "text": [
            "Requirement already satisfied: kaggle in /Users/yaseerarafatkhan/anaconda3/lib/python3.11/site-packages (1.5.16)\n",
            "Requirement already satisfied: six>=1.10 in /Users/yaseerarafatkhan/anaconda3/lib/python3.11/site-packages (from kaggle) (1.16.0)\n",
            "Requirement already satisfied: certifi in /Users/yaseerarafatkhan/anaconda3/lib/python3.11/site-packages (from kaggle) (2023.7.22)\n",
            "Requirement already satisfied: python-dateutil in /Users/yaseerarafatkhan/anaconda3/lib/python3.11/site-packages (from kaggle) (2.8.2)\n",
            "Requirement already satisfied: requests in /Users/yaseerarafatkhan/anaconda3/lib/python3.11/site-packages (from kaggle) (2.31.0)\n",
            "Requirement already satisfied: tqdm in /Users/yaseerarafatkhan/anaconda3/lib/python3.11/site-packages (from kaggle) (4.65.0)\n",
            "Requirement already satisfied: python-slugify in /Users/yaseerarafatkhan/anaconda3/lib/python3.11/site-packages (from kaggle) (5.0.2)\n",
            "Requirement already satisfied: urllib3 in /Users/yaseerarafatkhan/anaconda3/lib/python3.11/site-packages (from kaggle) (2.0.5)\n",
            "Requirement already satisfied: bleach in /Users/yaseerarafatkhan/anaconda3/lib/python3.11/site-packages (from kaggle) (4.1.0)\n",
            "Requirement already satisfied: packaging in /Users/yaseerarafatkhan/anaconda3/lib/python3.11/site-packages (from bleach->kaggle) (23.0)\n",
            "Requirement already satisfied: webencodings in /Users/yaseerarafatkhan/anaconda3/lib/python3.11/site-packages (from bleach->kaggle) (0.5.1)\n",
            "Requirement already satisfied: text-unidecode>=1.3 in /Users/yaseerarafatkhan/anaconda3/lib/python3.11/site-packages (from python-slugify->kaggle) (1.3)\n",
            "Requirement already satisfied: charset-normalizer<4,>=2 in /Users/yaseerarafatkhan/anaconda3/lib/python3.11/site-packages (from requests->kaggle) (2.0.4)\n",
            "Requirement already satisfied: idna<4,>=2.5 in /Users/yaseerarafatkhan/anaconda3/lib/python3.11/site-packages (from requests->kaggle) (3.4)\n"
          ]
        }
      ],
      "source": [
        "# install kaggle API\n",
        "! pip install kaggle"
      ]
    },
    {
      "cell_type": "code",
      "execution_count": 5,
      "metadata": {
        "id": "AWGoJVALGvNt"
      },
      "outputs": [],
      "source": [
        "import os\n",
        "import json\n",
        "\n",
        "# Load the Kaggle API key from a JSON file\n",
        "with open(\"kaggle (1).json\", \"r\") as file:\n",
        "    kaggle_info = json.load(file)\n",
        "\n",
        "# Set Kaggle username and key as environment variables\n",
        "os.environ['KAGGLE_USERNAME'] = kaggle_info[\"username\"]\n",
        "os.environ['KAGGLE_KEY'] = kaggle_info[\"key\"]"
      ]
    },
    {
      "cell_type": "code",
      "execution_count": 6,
      "metadata": {
        "colab": {
          "base_uri": "https://localhost:8080/",
          "height": 441
        },
        "id": "vo09u6t3IF-N",
        "outputId": "62943899-de1e-49ef-a7ff-06040ecfed3a"
      },
      "outputs": [
        {
          "name": "stdout",
          "output_type": "stream",
          "text": [
            "ref                                                                title                                            size  lastUpdated          downloadCount  voteCount  usabilityRating  \n",
            "-----------------------------------------------------------------  ----------------------------------------------  -----  -------------------  -------------  ---------  ---------------  \n",
            "nelgiriyewithana/top-spotify-songs-2023                            Most Streamed Spotify Songs 2023                 47KB  2023-08-26 11:04:57          24815        759  1.0              \n",
            "aemyjutt/laptop-price-analysis                                     Laptop_Price_Analysis                            21KB  2023-10-02 07:46:46            795         24  1.0              \n",
            "iamsouravbanerjee/customer-shopping-trends-dataset                 Customer Shopping Trends Dataset                146KB  2023-10-05 06:45:37           1440         42  1.0              \n",
            "nelgiriyewithana/credit-card-fraud-detection-dataset-2023          Credit Card Fraud Detection Dataset 2023        143MB  2023-09-18 10:00:19           3577        121  1.0              \n",
            "joebeachcapital/students-performance                               Students Performance                              2KB  2023-08-31 00:50:11           9020        206  1.0              \n",
            "krzysztofjamroz/apartment-prices-in-poland                         Apartment Prices in Poland                        3MB  2023-10-02 12:32:00            574         21  0.88235295       \n",
            "amruthayenikonda/coffee-chain-sales-dataset                        Coffee Chain Sales Analysis                      24KB  2023-10-02 11:37:27           1374         43  0.8235294        \n",
            "nelgiriyewithana/billionaires-statistics-dataset                   Billionaires Statistics Dataset (2023)          139KB  2023-09-29 13:39:28           1368         48  1.0              \n",
            "aemyjutt/indianhousesdataanalysis                                  IndianHousesDataAnalysis                        395KB  2023-09-18 07:16:53            982         32  1.0              \n",
            "fortuneuwha/world-instant-noodles-consumption-2022                 World Instant Noodles Consumption 2022            2KB  2023-10-02 17:06:28            783         24  1.0              \n",
            "willianoliveiragibin/diabetesdataanslysis                          diabetesDataAnslysis                              9KB  2023-09-27 19:54:22            941         25  1.0              \n",
            "asaniczka/amazon-products-dataset-2023-1-4m-products               Amazon Products Dataset 2023 (1.4M Products)     99MB  2023-09-30 10:44:48            690         31  1.0              \n",
            "iamsouravbanerjee/heart-attack-prediction-dataset                  Heart Attack Risk Prediction Dataset            519KB  2023-09-27 07:07:50           1489         46  1.0              \n",
            "sujaykapadnis/top-100-billboard                                    Top 100 Billboard                                27MB  2023-09-25 08:29:40            714         30  1.0              \n",
            "willianoliveiragibin/world-gdp-by-country-region-and-income-group  World GDP by Country, Region, and Income Group  108KB  2023-09-26 19:38:45            496         22  1.0              \n",
            "peachji/credit-card-dataset                                        Credit card dataset                              30MB  2023-09-30 22:00:58            843         29  0.88235295       \n",
            "iamsouravbanerjee/airline-dataset                                  Airline Dataset                                  13MB  2023-09-26 01:01:28           8624        171  1.0              \n",
            "carlmcbrideellis/zzzs-lightweight-training-dataset-target          Zzzs: Lightweight training dataset + target     185MB  2023-09-20 19:52:40            859         84  1.0              \n",
            "imtkaggleteam/clinical-dataset                                     Clinical Dataset                                 16KB  2023-10-05 12:11:12            250         36  1.0              \n",
            "scarfsman/uk-inflation-data-1989-2022                              UK Inflation Data 1989-2022                       3KB  2023-09-11 12:36:13            959         33  1.0              \n"
          ]
        }
      ],
      "source": [
        "# list of datasets\n",
        "! kaggle datasets list"
      ]
    },
    {
      "cell_type": "code",
      "execution_count": 7,
      "metadata": {
        "colab": {
          "base_uri": "https://localhost:8080/",
          "height": 70
        },
        "id": "ZhWjZHPVIQ-b",
        "outputId": "f9b12150-3454-4153-fc3a-2eeec5b9d4c7"
      },
      "outputs": [
        {
          "name": "stdout",
          "output_type": "stream",
          "text": [
            "creditcardfraud.zip: Skipping, found more recently modified local copy (use --force to force download)\n"
          ]
        }
      ],
      "source": [
        "# import the dataset\n",
        "! kaggle datasets download -d mlg-ulb/creditcardfraud"
      ]
    },
    {
      "cell_type": "code",
      "execution_count": 8,
      "metadata": {
        "colab": {
          "base_uri": "https://localhost:8080/",
          "height": 52
        },
        "id": "f4urpiEHKJJ9",
        "outputId": "75c67b51-1bbb-4914-ce24-6e2ef90ae392"
      },
      "outputs": [
        {
          "name": "stdout",
          "output_type": "stream",
          "text": [
            "Archive:  creditcardfraud.zip\n",
            "  inflating: creditcard.csv          \n"
          ]
        }
      ],
      "source": [
        "# unzipping dataset\n",
        "! unzip creditcardfraud.zip"
      ]
    },
    {
      "cell_type": "code",
      "execution_count": 9,
      "metadata": {
        "id": "WJ9gvp_4KTS7"
      },
      "outputs": [],
      "source": [
        "dataset_1  = pd.read_csv('creditcard.csv')"
      ]
    },
    {
      "cell_type": "code",
      "execution_count": 10,
      "metadata": {
        "colab": {
          "base_uri": "https://localhost:8080/",
          "height": 219
        },
        "id": "Yq7ZHXbpKe3l",
        "outputId": "578788ff-a678-4475-ad00-b70bb02fb55d"
      },
      "outputs": [
        {
          "data": {
            "text/html": [
              "<div>\n",
              "<style scoped>\n",
              "    .dataframe tbody tr th:only-of-type {\n",
              "        vertical-align: middle;\n",
              "    }\n",
              "\n",
              "    .dataframe tbody tr th {\n",
              "        vertical-align: top;\n",
              "    }\n",
              "\n",
              "    .dataframe thead th {\n",
              "        text-align: right;\n",
              "    }\n",
              "</style>\n",
              "<table border=\"1\" class=\"dataframe\">\n",
              "  <thead>\n",
              "    <tr style=\"text-align: right;\">\n",
              "      <th></th>\n",
              "      <th>Time</th>\n",
              "      <th>V1</th>\n",
              "      <th>V2</th>\n",
              "      <th>V3</th>\n",
              "      <th>V4</th>\n",
              "      <th>V5</th>\n",
              "      <th>V6</th>\n",
              "      <th>V7</th>\n",
              "      <th>V8</th>\n",
              "      <th>V9</th>\n",
              "      <th>...</th>\n",
              "      <th>V21</th>\n",
              "      <th>V22</th>\n",
              "      <th>V23</th>\n",
              "      <th>V24</th>\n",
              "      <th>V25</th>\n",
              "      <th>V26</th>\n",
              "      <th>V27</th>\n",
              "      <th>V28</th>\n",
              "      <th>Amount</th>\n",
              "      <th>Class</th>\n",
              "    </tr>\n",
              "  </thead>\n",
              "  <tbody>\n",
              "    <tr>\n",
              "      <th>0</th>\n",
              "      <td>0.0</td>\n",
              "      <td>-1.359807</td>\n",
              "      <td>-0.072781</td>\n",
              "      <td>2.536347</td>\n",
              "      <td>1.378155</td>\n",
              "      <td>-0.338321</td>\n",
              "      <td>0.462388</td>\n",
              "      <td>0.239599</td>\n",
              "      <td>0.098698</td>\n",
              "      <td>0.363787</td>\n",
              "      <td>...</td>\n",
              "      <td>-0.018307</td>\n",
              "      <td>0.277838</td>\n",
              "      <td>-0.110474</td>\n",
              "      <td>0.066928</td>\n",
              "      <td>0.128539</td>\n",
              "      <td>-0.189115</td>\n",
              "      <td>0.133558</td>\n",
              "      <td>-0.021053</td>\n",
              "      <td>149.62</td>\n",
              "      <td>0</td>\n",
              "    </tr>\n",
              "    <tr>\n",
              "      <th>1</th>\n",
              "      <td>0.0</td>\n",
              "      <td>1.191857</td>\n",
              "      <td>0.266151</td>\n",
              "      <td>0.166480</td>\n",
              "      <td>0.448154</td>\n",
              "      <td>0.060018</td>\n",
              "      <td>-0.082361</td>\n",
              "      <td>-0.078803</td>\n",
              "      <td>0.085102</td>\n",
              "      <td>-0.255425</td>\n",
              "      <td>...</td>\n",
              "      <td>-0.225775</td>\n",
              "      <td>-0.638672</td>\n",
              "      <td>0.101288</td>\n",
              "      <td>-0.339846</td>\n",
              "      <td>0.167170</td>\n",
              "      <td>0.125895</td>\n",
              "      <td>-0.008983</td>\n",
              "      <td>0.014724</td>\n",
              "      <td>2.69</td>\n",
              "      <td>0</td>\n",
              "    </tr>\n",
              "    <tr>\n",
              "      <th>2</th>\n",
              "      <td>1.0</td>\n",
              "      <td>-1.358354</td>\n",
              "      <td>-1.340163</td>\n",
              "      <td>1.773209</td>\n",
              "      <td>0.379780</td>\n",
              "      <td>-0.503198</td>\n",
              "      <td>1.800499</td>\n",
              "      <td>0.791461</td>\n",
              "      <td>0.247676</td>\n",
              "      <td>-1.514654</td>\n",
              "      <td>...</td>\n",
              "      <td>0.247998</td>\n",
              "      <td>0.771679</td>\n",
              "      <td>0.909412</td>\n",
              "      <td>-0.689281</td>\n",
              "      <td>-0.327642</td>\n",
              "      <td>-0.139097</td>\n",
              "      <td>-0.055353</td>\n",
              "      <td>-0.059752</td>\n",
              "      <td>378.66</td>\n",
              "      <td>0</td>\n",
              "    </tr>\n",
              "    <tr>\n",
              "      <th>3</th>\n",
              "      <td>1.0</td>\n",
              "      <td>-0.966272</td>\n",
              "      <td>-0.185226</td>\n",
              "      <td>1.792993</td>\n",
              "      <td>-0.863291</td>\n",
              "      <td>-0.010309</td>\n",
              "      <td>1.247203</td>\n",
              "      <td>0.237609</td>\n",
              "      <td>0.377436</td>\n",
              "      <td>-1.387024</td>\n",
              "      <td>...</td>\n",
              "      <td>-0.108300</td>\n",
              "      <td>0.005274</td>\n",
              "      <td>-0.190321</td>\n",
              "      <td>-1.175575</td>\n",
              "      <td>0.647376</td>\n",
              "      <td>-0.221929</td>\n",
              "      <td>0.062723</td>\n",
              "      <td>0.061458</td>\n",
              "      <td>123.50</td>\n",
              "      <td>0</td>\n",
              "    </tr>\n",
              "    <tr>\n",
              "      <th>4</th>\n",
              "      <td>2.0</td>\n",
              "      <td>-1.158233</td>\n",
              "      <td>0.877737</td>\n",
              "      <td>1.548718</td>\n",
              "      <td>0.403034</td>\n",
              "      <td>-0.407193</td>\n",
              "      <td>0.095921</td>\n",
              "      <td>0.592941</td>\n",
              "      <td>-0.270533</td>\n",
              "      <td>0.817739</td>\n",
              "      <td>...</td>\n",
              "      <td>-0.009431</td>\n",
              "      <td>0.798278</td>\n",
              "      <td>-0.137458</td>\n",
              "      <td>0.141267</td>\n",
              "      <td>-0.206010</td>\n",
              "      <td>0.502292</td>\n",
              "      <td>0.219422</td>\n",
              "      <td>0.215153</td>\n",
              "      <td>69.99</td>\n",
              "      <td>0</td>\n",
              "    </tr>\n",
              "  </tbody>\n",
              "</table>\n",
              "<p>5 rows × 31 columns</p>\n",
              "</div>"
            ],
            "text/plain": [
              "   Time        V1        V2        V3        V4        V5        V6        V7  \\\n",
              "0   0.0 -1.359807 -0.072781  2.536347  1.378155 -0.338321  0.462388  0.239599   \n",
              "1   0.0  1.191857  0.266151  0.166480  0.448154  0.060018 -0.082361 -0.078803   \n",
              "2   1.0 -1.358354 -1.340163  1.773209  0.379780 -0.503198  1.800499  0.791461   \n",
              "3   1.0 -0.966272 -0.185226  1.792993 -0.863291 -0.010309  1.247203  0.237609   \n",
              "4   2.0 -1.158233  0.877737  1.548718  0.403034 -0.407193  0.095921  0.592941   \n",
              "\n",
              "         V8        V9  ...       V21       V22       V23       V24       V25  \\\n",
              "0  0.098698  0.363787  ... -0.018307  0.277838 -0.110474  0.066928  0.128539   \n",
              "1  0.085102 -0.255425  ... -0.225775 -0.638672  0.101288 -0.339846  0.167170   \n",
              "2  0.247676 -1.514654  ...  0.247998  0.771679  0.909412 -0.689281 -0.327642   \n",
              "3  0.377436 -1.387024  ... -0.108300  0.005274 -0.190321 -1.175575  0.647376   \n",
              "4 -0.270533  0.817739  ... -0.009431  0.798278 -0.137458  0.141267 -0.206010   \n",
              "\n",
              "        V26       V27       V28  Amount  Class  \n",
              "0 -0.189115  0.133558 -0.021053  149.62      0  \n",
              "1  0.125895 -0.008983  0.014724    2.69      0  \n",
              "2 -0.139097 -0.055353 -0.059752  378.66      0  \n",
              "3 -0.221929  0.062723  0.061458  123.50      0  \n",
              "4  0.502292  0.219422  0.215153   69.99      0  \n",
              "\n",
              "[5 rows x 31 columns]"
            ]
          },
          "execution_count": 10,
          "metadata": {},
          "output_type": "execute_result"
        }
      ],
      "source": [
        "dataset_1.head()"
      ]
    },
    {
      "cell_type": "markdown",
      "metadata": {
        "id": "IQDeNqgwNAnV"
      },
      "source": [
        "# Step 3: Data Preprocessing"
      ]
    },
    {
      "cell_type": "code",
      "execution_count": 11,
      "metadata": {
        "colab": {
          "base_uri": "https://localhost:8080/",
          "height": 34
        },
        "id": "aW1LFPe7UE2B",
        "outputId": "508599f3-f1d7-4338-fb5e-86928a48f687"
      },
      "outputs": [
        {
          "data": {
            "text/plain": [
              "(284807, 31)"
            ]
          },
          "execution_count": 11,
          "metadata": {},
          "output_type": "execute_result"
        }
      ],
      "source": [
        "dataset_1.shape"
      ]
    },
    {
      "cell_type": "code",
      "execution_count": 12,
      "metadata": {
        "colab": {
          "base_uri": "https://localhost:8080/",
          "height": 579
        },
        "id": "RSpv_uFoUlSw",
        "outputId": "c6748bdf-9385-448f-c1d4-96164a56904c"
      },
      "outputs": [
        {
          "data": {
            "text/plain": [
              "Time      0\n",
              "V1        0\n",
              "V2        0\n",
              "V3        0\n",
              "V4        0\n",
              "V5        0\n",
              "V6        0\n",
              "V7        0\n",
              "V8        0\n",
              "V9        0\n",
              "V10       0\n",
              "V11       0\n",
              "V12       0\n",
              "V13       0\n",
              "V14       0\n",
              "V15       0\n",
              "V16       0\n",
              "V17       0\n",
              "V18       0\n",
              "V19       0\n",
              "V20       0\n",
              "V21       0\n",
              "V22       0\n",
              "V23       0\n",
              "V24       0\n",
              "V25       0\n",
              "V26       0\n",
              "V27       0\n",
              "V28       0\n",
              "Amount    0\n",
              "Class     0\n",
              "dtype: int64"
            ]
          },
          "execution_count": 12,
          "metadata": {},
          "output_type": "execute_result"
        }
      ],
      "source": [
        "# checking the null values\n",
        "dataset_1.isnull().sum()"
      ]
    },
    {
      "cell_type": "code",
      "execution_count": 13,
      "metadata": {
        "colab": {
          "base_uri": "https://localhost:8080/",
          "height": 650
        },
        "id": "zOG5GVJtU3XI",
        "outputId": "b179d5ae-793d-4f74-ab3d-fc6f472573ae"
      },
      "outputs": [
        {
          "name": "stdout",
          "output_type": "stream",
          "text": [
            "<class 'pandas.core.frame.DataFrame'>\n",
            "RangeIndex: 284807 entries, 0 to 284806\n",
            "Data columns (total 31 columns):\n",
            " #   Column  Non-Null Count   Dtype  \n",
            "---  ------  --------------   -----  \n",
            " 0   Time    284807 non-null  float64\n",
            " 1   V1      284807 non-null  float64\n",
            " 2   V2      284807 non-null  float64\n",
            " 3   V3      284807 non-null  float64\n",
            " 4   V4      284807 non-null  float64\n",
            " 5   V5      284807 non-null  float64\n",
            " 6   V6      284807 non-null  float64\n",
            " 7   V7      284807 non-null  float64\n",
            " 8   V8      284807 non-null  float64\n",
            " 9   V9      284807 non-null  float64\n",
            " 10  V10     284807 non-null  float64\n",
            " 11  V11     284807 non-null  float64\n",
            " 12  V12     284807 non-null  float64\n",
            " 13  V13     284807 non-null  float64\n",
            " 14  V14     284807 non-null  float64\n",
            " 15  V15     284807 non-null  float64\n",
            " 16  V16     284807 non-null  float64\n",
            " 17  V17     284807 non-null  float64\n",
            " 18  V18     284807 non-null  float64\n",
            " 19  V19     284807 non-null  float64\n",
            " 20  V20     284807 non-null  float64\n",
            " 21  V21     284807 non-null  float64\n",
            " 22  V22     284807 non-null  float64\n",
            " 23  V23     284807 non-null  float64\n",
            " 24  V24     284807 non-null  float64\n",
            " 25  V25     284807 non-null  float64\n",
            " 26  V26     284807 non-null  float64\n",
            " 27  V27     284807 non-null  float64\n",
            " 28  V28     284807 non-null  float64\n",
            " 29  Amount  284807 non-null  float64\n",
            " 30  Class   284807 non-null  int64  \n",
            "dtypes: float64(30), int64(1)\n",
            "memory usage: 67.4 MB\n"
          ]
        }
      ],
      "source": [
        "dataset_1.info()"
      ]
    },
    {
      "cell_type": "code",
      "execution_count": 14,
      "metadata": {
        "colab": {
          "base_uri": "https://localhost:8080/",
          "height": 70
        },
        "id": "FJV-pZuMVIrQ",
        "outputId": "9d042a18-6a84-4ae4-a4ad-db9d4fa3442b"
      },
      "outputs": [
        {
          "data": {
            "text/plain": [
              "0    284315\n",
              "1       492\n",
              "Name: Class, dtype: int64"
            ]
          },
          "execution_count": 14,
          "metadata": {},
          "output_type": "execute_result"
        }
      ],
      "source": [
        "# observations in each class\n",
        "dataset_1['Class'].value_counts()"
      ]
    },
    {
      "cell_type": "code",
      "execution_count": 15,
      "metadata": {
        "id": "0uC_yEj7VrXw"
      },
      "outputs": [],
      "source": [
        "# balance the dataset\n",
        "fraud = dataset_1[dataset_1['Class']==1]\n",
        "non_fraud = dataset_1[dataset_1['Class']==0]"
      ]
    },
    {
      "cell_type": "code",
      "execution_count": 16,
      "metadata": {
        "colab": {
          "base_uri": "https://localhost:8080/",
          "height": 34
        },
        "id": "0wk_5v09WCoA",
        "outputId": "0971bc0c-f56f-4b2b-9836-ffb6c62f6020"
      },
      "outputs": [
        {
          "data": {
            "text/plain": [
              "((492, 31), (284315, 31))"
            ]
          },
          "execution_count": 16,
          "metadata": {},
          "output_type": "execute_result"
        }
      ],
      "source": [
        "fraud.shape, non_fraud.shape"
      ]
    },
    {
      "cell_type": "code",
      "execution_count": 17,
      "metadata": {
        "id": "By8-vwUDW0zJ"
      },
      "outputs": [],
      "source": [
        "# random selection of samples\n",
        "non_fraud_t = non_fraud.sample(n=492)"
      ]
    },
    {
      "cell_type": "code",
      "execution_count": 18,
      "metadata": {
        "colab": {
          "base_uri": "https://localhost:8080/",
          "height": 34
        },
        "id": "GqJAnDXfXnlP",
        "outputId": "135878d2-7b75-459d-bb81-626f7c03a443"
      },
      "outputs": [
        {
          "data": {
            "text/plain": [
              "(492, 31)"
            ]
          },
          "execution_count": 18,
          "metadata": {},
          "output_type": "execute_result"
        }
      ],
      "source": [
        "non_fraud_t.shape"
      ]
    },
    {
      "cell_type": "code",
      "execution_count": 19,
      "metadata": {
        "id": "4SxY4fMOX0so"
      },
      "outputs": [
        {
          "name": "stderr",
          "output_type": "stream",
          "text": [
            "/var/folders/1p/lzvh8nn53hd76nt7l85mqcqh0000gn/T/ipykernel_84311/3921213925.py:2: FutureWarning: The frame.append method is deprecated and will be removed from pandas in a future version. Use pandas.concat instead.\n",
            "  dataset = fraud.append(non_fraud_t, ignore_index=True)\n"
          ]
        }
      ],
      "source": [
        "# merge dataset\n",
        "dataset = fraud.append(non_fraud_t, ignore_index=True)"
      ]
    },
    {
      "cell_type": "code",
      "execution_count": 20,
      "metadata": {
        "colab": {
          "base_uri": "https://localhost:8080/",
          "height": 263
        },
        "id": "Qamgjq-sYK8Z",
        "outputId": "a6546572-073c-4184-8088-57d67d036df4"
      },
      "outputs": [
        {
          "name": "stdout",
          "output_type": "stream",
          "text": [
            "         Time        V1        V2        V3        V4        V5        V6  \\\n",
            "0       406.0 -2.312227  1.951992 -1.609851  3.997906 -0.522188 -1.426545   \n",
            "1       472.0 -3.043541 -3.157307  1.088463  2.288644  1.359805 -1.064823   \n",
            "2      4462.0 -2.303350  1.759247 -0.359745  2.330243 -0.821628 -0.075788   \n",
            "3      6986.0 -4.397974  1.358367 -2.592844  2.679787 -1.128131 -1.706536   \n",
            "4      7519.0  1.234235  3.019740 -4.304597  4.732795  3.624201 -1.357746   \n",
            "..        ...       ...       ...       ...       ...       ...       ...   \n",
            "979   48973.0 -0.231941  0.050599  1.398802 -0.893910 -0.442613  0.269010   \n",
            "980  153705.0 -0.459015 -0.207853  2.189452 -2.001899 -0.922265  0.218596   \n",
            "981   75469.0 -0.384460  0.613443  1.438978  0.520308  0.655791 -0.443711   \n",
            "982  135271.0 -0.099092  0.888361 -1.171567 -0.713187  1.955588 -1.387362   \n",
            "983  162748.0  1.971860  0.025494 -1.588571  0.660162 -0.180167 -1.706831   \n",
            "\n",
            "           V7        V8        V9  ...       V21       V22       V23  \\\n",
            "0   -2.537387  1.391657 -2.770089  ...  0.517232 -0.035049 -0.465211   \n",
            "1    0.325574 -0.067794 -0.270953  ...  0.661696  0.435477  1.375966   \n",
            "2    0.562320 -0.399147 -0.238253  ... -0.294166 -0.932391  0.172726   \n",
            "3   -3.496197 -0.248778 -0.247768  ...  0.573574  0.176968 -0.436207   \n",
            "4    1.713445 -0.496358 -1.282858  ... -0.379068 -0.704181 -0.656805   \n",
            "..        ...       ...       ...  ...       ...       ...       ...   \n",
            "979 -0.163531  0.016699 -0.997069  ... -0.356417 -0.284358 -0.101886   \n",
            "980 -0.624701  0.353164  0.207161  ...  0.189288  0.846375 -0.106292   \n",
            "981  0.947738 -0.248280 -0.480304  ...  0.119169  0.457374 -0.134445   \n",
            "982  1.987699 -1.026876 -0.294527  ...  0.015580  0.460686 -0.095033   \n",
            "983  0.192799 -0.312913  0.799111  ...  0.224861  0.698330  0.035271   \n",
            "\n",
            "          V24       V25       V26       V27       V28  Amount  Class  \n",
            "0    0.320198  0.044519  0.177840  0.261145 -0.143276    0.00      1  \n",
            "1   -0.293803  0.279798 -0.145362 -0.252773  0.035764  529.00      1  \n",
            "2   -0.087330 -0.156114 -0.542628  0.039566 -0.153029  239.93      1  \n",
            "3   -0.053502  0.252405 -0.657488 -0.827136  0.849573   59.00      1  \n",
            "4   -1.632653  1.488901  0.566797 -0.010016  0.146793    1.00      1  \n",
            "..        ...       ...       ...       ...       ...     ...    ...  \n",
            "979 -0.325169 -0.559905  1.579007 -0.039868  0.128265    6.47      0  \n",
            "980  1.118757 -0.308195 -0.342372  0.429987  0.229823    1.00      0  \n",
            "981  0.086553  0.169160 -0.373546 -0.124007 -0.193939   36.10      0  \n",
            "982  0.640811  0.115798  0.612200 -0.768921 -0.433704    9.70      0  \n",
            "983  0.294233  0.120551 -0.121164 -0.013561 -0.026727   27.43      0  \n",
            "\n",
            "[984 rows x 31 columns]\n"
          ]
        }
      ],
      "source": [
        "print(dataset)"
      ]
    },
    {
      "cell_type": "code",
      "execution_count": 21,
      "metadata": {
        "colab": {
          "base_uri": "https://localhost:8080/",
          "height": 70
        },
        "id": "TFWkLGMQYSTX",
        "outputId": "fa26be99-6636-4a36-c535-c82596bfea2b"
      },
      "outputs": [
        {
          "data": {
            "text/plain": [
              "1    492\n",
              "0    492\n",
              "Name: Class, dtype: int64"
            ]
          },
          "execution_count": 21,
          "metadata": {},
          "output_type": "execute_result"
        }
      ],
      "source": [
        "# observations in each class\n",
        "dataset['Class'].value_counts()"
      ]
    },
    {
      "cell_type": "code",
      "execution_count": 22,
      "metadata": {
        "id": "PqvciwCMZiv2"
      },
      "outputs": [],
      "source": [
        "# matrix of features\n",
        "x = dataset.drop(labels=['Class'], axis=1)"
      ]
    },
    {
      "cell_type": "code",
      "execution_count": 23,
      "metadata": {
        "id": "rOXyCW0CZ2nv"
      },
      "outputs": [],
      "source": [
        "# dependent variable\n",
        "y = dataset['Class']"
      ]
    },
    {
      "cell_type": "code",
      "execution_count": 24,
      "metadata": {
        "colab": {
          "base_uri": "https://localhost:8080/",
          "height": 34
        },
        "id": "8vb1jDFgZ-Lg",
        "outputId": "2ab3c708-007a-4394-ab19-56b0decaa322"
      },
      "outputs": [
        {
          "data": {
            "text/plain": [
              "((984, 30), (984,))"
            ]
          },
          "execution_count": 24,
          "metadata": {},
          "output_type": "execute_result"
        }
      ],
      "source": [
        "x.shape, y.shape"
      ]
    },
    {
      "cell_type": "code",
      "execution_count": 25,
      "metadata": {
        "id": "PFXGfityaGA_"
      },
      "outputs": [],
      "source": [
        "# splitting the dataset into train and test set\n",
        "from sklearn.model_selection import train_test_split\n",
        "x_train, x_test, y_train, y_test = train_test_split(x, y, test_size = 0.2, random_state = 0)"
      ]
    },
    {
      "cell_type": "code",
      "execution_count": 26,
      "metadata": {
        "colab": {
          "base_uri": "https://localhost:8080/",
          "height": 34
        },
        "id": "pT1to9WJaj1H",
        "outputId": "bb4a6f0b-24ec-473d-cdde-8908fcac205e"
      },
      "outputs": [
        {
          "data": {
            "text/plain": [
              "((787, 30), (197, 30))"
            ]
          },
          "execution_count": 26,
          "metadata": {},
          "output_type": "execute_result"
        }
      ],
      "source": [
        "x_train.shape, x_test.shape"
      ]
    },
    {
      "cell_type": "code",
      "execution_count": 27,
      "metadata": {
        "id": "PXE87OUZaqnw"
      },
      "outputs": [],
      "source": [
        "# feature scaling\n",
        "from sklearn.preprocessing import StandardScaler\n",
        "sc = StandardScaler()\n",
        "x_train = sc.fit_transform(x_train)\n",
        "x_test = sc.transform(x_test)"
      ]
    },
    {
      "cell_type": "code",
      "execution_count": 28,
      "metadata": {
        "colab": {
          "base_uri": "https://localhost:8080/",
          "height": 245
        },
        "id": "1_q7CL8tbiK2",
        "outputId": "4ba47976-5dbf-48bd-b07f-217d4a2b4082"
      },
      "outputs": [
        {
          "data": {
            "text/plain": [
              "array([[-0.36063515,  0.08884457, -0.31757233, ..., -0.50087659,\n",
              "        -0.02434921, -0.012856  ],\n",
              "       [-0.81833558,  0.52407192, -0.0916109 , ...,  0.45835785,\n",
              "         0.51600799, -0.38571412],\n",
              "       [-0.8553742 ,  0.20554492,  0.10031043, ...,  0.30140693,\n",
              "         0.39401559, -0.38486712],\n",
              "       ...,\n",
              "       [-1.2191001 , -0.29923435, -3.16317387, ..., -0.54922842,\n",
              "         0.885317  ,  9.36361702],\n",
              "       [ 0.6388229 , -0.47238364,  0.06382132, ..., -0.40637884,\n",
              "        -0.45075566, -0.07080518],\n",
              "       [-0.94302251,  0.36168882, -0.20729097, ..., -0.1238332 ,\n",
              "         0.23294562, -0.34294043]])"
            ]
          },
          "execution_count": 28,
          "metadata": {},
          "output_type": "execute_result"
        }
      ],
      "source": [
        "x_train"
      ]
    },
    {
      "cell_type": "code",
      "execution_count": 29,
      "metadata": {
        "id": "PeHW3pHRbn3X"
      },
      "outputs": [],
      "source": [
        "y_train = y_train.to_numpy()\n",
        "y_test = y_test.to_numpy()"
      ]
    },
    {
      "cell_type": "code",
      "execution_count": 30,
      "metadata": {
        "colab": {
          "base_uri": "https://localhost:8080/",
          "height": 34
        },
        "id": "FnslyMpxb0wL",
        "outputId": "a42aeb77-c33a-4df6-ca23-6733b604af67"
      },
      "outputs": [
        {
          "data": {
            "text/plain": [
              "((787, 30), (197, 30))"
            ]
          },
          "execution_count": 30,
          "metadata": {},
          "output_type": "execute_result"
        }
      ],
      "source": [
        "x_train.shape, x_test.shape"
      ]
    },
    {
      "cell_type": "code",
      "execution_count": 31,
      "metadata": {
        "id": "mHinMVlycFGh"
      },
      "outputs": [],
      "source": [
        "# reshape the dataset\n",
        "x_train = x_train.reshape(787, 30, 1)\n",
        "x_test = x_test.reshape(197, 30, 1)"
      ]
    },
    {
      "cell_type": "code",
      "execution_count": 32,
      "metadata": {
        "colab": {
          "base_uri": "https://localhost:8080/",
          "height": 34
        },
        "id": "NTWpqK2OcSrx",
        "outputId": "74ae5519-4cbb-445a-a777-48db08e76772"
      },
      "outputs": [
        {
          "data": {
            "text/plain": [
              "((787, 30, 1), (197, 30, 1))"
            ]
          },
          "execution_count": 32,
          "metadata": {},
          "output_type": "execute_result"
        }
      ],
      "source": [
        "x_train.shape, x_test.shape"
      ]
    },
    {
      "cell_type": "markdown",
      "metadata": {
        "id": "qBHgHLItdtRX"
      },
      "source": [
        "# Step 4: Building the model"
      ]
    },
    {
      "cell_type": "code",
      "execution_count": 33,
      "metadata": {
        "id": "dH--Ig4SAoe4"
      },
      "outputs": [],
      "source": [
        "# defining an object\n",
        "model = tf.keras.models.Sequential()"
      ]
    },
    {
      "cell_type": "code",
      "execution_count": 34,
      "metadata": {
        "id": "q_1SoZBPB2Zy"
      },
      "outputs": [],
      "source": [
        "# first CNN layer\n",
        "model.add(tf.keras.layers.Conv1D(filters=32, kernel_size=2, padding='same', activation='relu', input_shape = (30, 1)))\n",
        "\n",
        "# batch normalization\n",
        "model.add(tf.keras.layers.BatchNormalization())\n",
        "\n",
        "# maxpool layer\n",
        "model.add(tf.keras.layers.MaxPool1D(pool_size=2))\n",
        "\n",
        "# dropout layer\n",
        "model.add(tf.keras.layers.Dropout(0.2))"
      ]
    },
    {
      "cell_type": "code",
      "execution_count": 35,
      "metadata": {
        "id": "aNFYuWrNDtLN"
      },
      "outputs": [],
      "source": [
        "# second CNN layer\n",
        "model.add(tf.keras.layers.Conv1D(filters=64, kernel_size=2, padding='same', activation='relu'))\n",
        "\n",
        "# batch normalization\n",
        "model.add(tf.keras.layers.BatchNormalization())\n",
        "\n",
        "# maxpool layer\n",
        "model.add(tf.keras.layers.MaxPool1D(pool_size=2))\n",
        "\n",
        "# dropout layer\n",
        "model.add(tf.keras.layers.Dropout(0.3))"
      ]
    },
    {
      "cell_type": "code",
      "execution_count": 36,
      "metadata": {
        "id": "JPW1b4AbD77u"
      },
      "outputs": [],
      "source": [
        "# flatten layer\n",
        "model.add(tf.keras.layers.Flatten())"
      ]
    },
    {
      "cell_type": "code",
      "execution_count": 37,
      "metadata": {
        "id": "tOV0WJ7nEEtq"
      },
      "outputs": [],
      "source": [
        "# first dense layer\n",
        "model.add(tf.keras.layers.Dense(units=64, activation='relu'))\n",
        "\n",
        "# dropout layer\n",
        "model.add(tf.keras.layers.Dropout(0.3))"
      ]
    },
    {
      "cell_type": "code",
      "execution_count": 38,
      "metadata": {
        "id": "ybB4TooFE0NO"
      },
      "outputs": [],
      "source": [
        "# output layer\n",
        "model.add(tf.keras.layers.Dense(units=1, activation='sigmoid'))"
      ]
    },
    {
      "cell_type": "code",
      "execution_count": 39,
      "metadata": {
        "colab": {
          "base_uri": "https://localhost:8080/",
          "height": 579
        },
        "id": "h2ejeHwtFQIB",
        "outputId": "1714d77e-c820-457f-bf5d-0da7abbdfbae"
      },
      "outputs": [
        {
          "name": "stdout",
          "output_type": "stream",
          "text": [
            "Model: \"sequential\"\n",
            "_________________________________________________________________\n",
            " Layer (type)                Output Shape              Param #   \n",
            "=================================================================\n",
            " conv1d (Conv1D)             (None, 30, 32)            96        \n",
            "                                                                 \n",
            " batch_normalization (Batch  (None, 30, 32)            128       \n",
            " Normalization)                                                  \n",
            "                                                                 \n",
            " max_pooling1d (MaxPooling1  (None, 15, 32)            0         \n",
            " D)                                                              \n",
            "                                                                 \n",
            " dropout (Dropout)           (None, 15, 32)            0         \n",
            "                                                                 \n",
            " conv1d_1 (Conv1D)           (None, 15, 64)            4160      \n",
            "                                                                 \n",
            " batch_normalization_1 (Bat  (None, 15, 64)            256       \n",
            " chNormalization)                                                \n",
            "                                                                 \n",
            " max_pooling1d_1 (MaxPoolin  (None, 7, 64)             0         \n",
            " g1D)                                                            \n",
            "                                                                 \n",
            " dropout_1 (Dropout)         (None, 7, 64)             0         \n",
            "                                                                 \n",
            " flatten (Flatten)           (None, 448)               0         \n",
            "                                                                 \n",
            " dense (Dense)               (None, 64)                28736     \n",
            "                                                                 \n",
            " dropout_2 (Dropout)         (None, 64)                0         \n",
            "                                                                 \n",
            " dense_1 (Dense)             (None, 1)                 65        \n",
            "                                                                 \n",
            "=================================================================\n",
            "Total params: 33441 (130.63 KB)\n",
            "Trainable params: 33249 (129.88 KB)\n",
            "Non-trainable params: 192 (768.00 Byte)\n",
            "_________________________________________________________________\n"
          ]
        }
      ],
      "source": [
        "model.summary()"
      ]
    },
    {
      "cell_type": "code",
      "execution_count": 40,
      "metadata": {
        "id": "LJnWJfbdGi9n"
      },
      "outputs": [
        {
          "name": "stderr",
          "output_type": "stream",
          "text": [
            "WARNING:absl:At this time, the v2.11+ optimizer `tf.keras.optimizers.Adam` runs slowly on M1/M2 Macs, please use the legacy Keras optimizer instead, located at `tf.keras.optimizers.legacy.Adam`.\n"
          ]
        }
      ],
      "source": [
        "opt = tf.keras.optimizers.Adam(learning_rate=0.0001)"
      ]
    },
    {
      "cell_type": "code",
      "execution_count": 41,
      "metadata": {
        "id": "vB1MxNAMG8xf"
      },
      "outputs": [
        {
          "name": "stderr",
          "output_type": "stream",
          "text": [
            "WARNING:absl:There is a known slowdown when using v2.11+ Keras optimizers on M1/M2 Macs. Falling back to the legacy Keras optimizer, i.e., `tf.keras.optimizers.legacy.Adam`.\n"
          ]
        }
      ],
      "source": [
        "model.compile(optimizer=opt, loss='binary_crossentropy', metrics=['accuracy'])"
      ]
    },
    {
      "cell_type": "markdown",
      "metadata": {
        "id": "OPOhMsn5ICK3"
      },
      "source": [
        "# Step 5: Training the model"
      ]
    },
    {
      "cell_type": "code",
      "execution_count": 42,
      "metadata": {
        "colab": {
          "base_uri": "https://localhost:8080/",
          "height": 933
        },
        "id": "muzj1JHmIBDa",
        "outputId": "3a231229-c391-40fb-d611-dabbbcbf29ec"
      },
      "outputs": [
        {
          "name": "stdout",
          "output_type": "stream",
          "text": [
            "Epoch 1/25\n"
          ]
        },
        {
          "name": "stdout",
          "output_type": "stream",
          "text": [
            "25/25 [==============================] - 1s 9ms/step - loss: 0.9126 - accuracy: 0.6023 - val_loss: 0.6530 - val_accuracy: 0.7360\n",
            "Epoch 2/25\n",
            "25/25 [==============================] - 0s 4ms/step - loss: 0.5880 - accuracy: 0.7332 - val_loss: 0.6293 - val_accuracy: 0.8274\n",
            "Epoch 3/25\n",
            "25/25 [==============================] - 0s 4ms/step - loss: 0.4670 - accuracy: 0.8132 - val_loss: 0.6026 - val_accuracy: 0.8579\n",
            "Epoch 4/25\n",
            "25/25 [==============================] - 0s 4ms/step - loss: 0.4917 - accuracy: 0.7992 - val_loss: 0.5662 - val_accuracy: 0.8832\n",
            "Epoch 5/25\n",
            "25/25 [==============================] - 0s 4ms/step - loss: 0.4081 - accuracy: 0.8361 - val_loss: 0.5235 - val_accuracy: 0.9137\n",
            "Epoch 6/25\n",
            "25/25 [==============================] - 0s 4ms/step - loss: 0.3618 - accuracy: 0.8679 - val_loss: 0.4807 - val_accuracy: 0.9340\n",
            "Epoch 7/25\n",
            "25/25 [==============================] - 0s 4ms/step - loss: 0.3727 - accuracy: 0.8691 - val_loss: 0.4407 - val_accuracy: 0.9340\n",
            "Epoch 8/25\n",
            "25/25 [==============================] - 0s 4ms/step - loss: 0.3265 - accuracy: 0.8742 - val_loss: 0.4013 - val_accuracy: 0.9391\n",
            "Epoch 9/25\n",
            "25/25 [==============================] - 0s 4ms/step - loss: 0.3520 - accuracy: 0.8653 - val_loss: 0.3566 - val_accuracy: 0.9340\n",
            "Epoch 10/25\n",
            "25/25 [==============================] - 0s 4ms/step - loss: 0.3122 - accuracy: 0.8831 - val_loss: 0.3192 - val_accuracy: 0.9391\n",
            "Epoch 11/25\n",
            "25/25 [==============================] - 0s 4ms/step - loss: 0.3119 - accuracy: 0.8920 - val_loss: 0.2897 - val_accuracy: 0.9442\n",
            "Epoch 12/25\n",
            "25/25 [==============================] - 0s 5ms/step - loss: 0.3141 - accuracy: 0.8856 - val_loss: 0.2618 - val_accuracy: 0.9391\n",
            "Epoch 13/25\n",
            "25/25 [==============================] - 0s 4ms/step - loss: 0.2891 - accuracy: 0.8920 - val_loss: 0.2397 - val_accuracy: 0.9442\n",
            "Epoch 14/25\n",
            "25/25 [==============================] - 0s 4ms/step - loss: 0.3140 - accuracy: 0.8920 - val_loss: 0.2214 - val_accuracy: 0.9492\n",
            "Epoch 15/25\n",
            "25/25 [==============================] - 0s 4ms/step - loss: 0.2444 - accuracy: 0.9034 - val_loss: 0.2080 - val_accuracy: 0.9492\n",
            "Epoch 16/25\n",
            "25/25 [==============================] - 0s 4ms/step - loss: 0.2939 - accuracy: 0.8895 - val_loss: 0.1949 - val_accuracy: 0.9442\n",
            "Epoch 17/25\n",
            "25/25 [==============================] - 0s 4ms/step - loss: 0.2428 - accuracy: 0.9123 - val_loss: 0.1840 - val_accuracy: 0.9492\n",
            "Epoch 18/25\n",
            "25/25 [==============================] - 0s 4ms/step - loss: 0.2518 - accuracy: 0.9022 - val_loss: 0.1749 - val_accuracy: 0.9492\n",
            "Epoch 19/25\n",
            "25/25 [==============================] - 0s 4ms/step - loss: 0.2556 - accuracy: 0.8971 - val_loss: 0.1679 - val_accuracy: 0.9492\n",
            "Epoch 20/25\n",
            "25/25 [==============================] - 0s 4ms/step - loss: 0.2491 - accuracy: 0.9187 - val_loss: 0.1625 - val_accuracy: 0.9492\n",
            "Epoch 21/25\n",
            "25/25 [==============================] - 0s 4ms/step - loss: 0.2631 - accuracy: 0.9098 - val_loss: 0.1581 - val_accuracy: 0.9492\n",
            "Epoch 22/25\n",
            "25/25 [==============================] - 0s 4ms/step - loss: 0.2480 - accuracy: 0.9136 - val_loss: 0.1536 - val_accuracy: 0.9543\n",
            "Epoch 23/25\n",
            "25/25 [==============================] - 0s 5ms/step - loss: 0.2506 - accuracy: 0.9136 - val_loss: 0.1506 - val_accuracy: 0.9492\n",
            "Epoch 24/25\n",
            "25/25 [==============================] - 0s 4ms/step - loss: 0.2772 - accuracy: 0.9047 - val_loss: 0.1489 - val_accuracy: 0.9492\n",
            "Epoch 25/25\n",
            "25/25 [==============================] - 0s 4ms/step - loss: 0.2287 - accuracy: 0.9238 - val_loss: 0.1465 - val_accuracy: 0.9492\n"
          ]
        }
      ],
      "source": [
        "history = model.fit(x_train, y_train, epochs=25, validation_data=(x_test, y_test))"
      ]
    },
    {
      "cell_type": "code",
      "execution_count": 43,
      "metadata": {
        "id": "Y24Pij9eJ8XY"
      },
      "outputs": [
        {
          "name": "stdout",
          "output_type": "stream",
          "text": [
            "7/7 [==============================] - 0s 1ms/step\n"
          ]
        }
      ],
      "source": [
        "# Model prediction\n",
        "y_pred_probs = model.predict(x_test)  # Get predicted probabilities for the positive class\n",
        "\n",
        "# Convert predicted probabilities to binary predictions\n",
        "y_pred = (y_pred_probs > 0.5).astype(\"int32\")"
      ]
    },
    {
      "cell_type": "code",
      "execution_count": 44,
      "metadata": {
        "colab": {
          "base_uri": "https://localhost:8080/",
          "height": 70
        },
        "id": "Z5eI5NxoKEI0",
        "outputId": "82abb9cb-ebad-49ec-a4e1-a9b8e27bd452"
      },
      "outputs": [
        {
          "name": "stdout",
          "output_type": "stream",
          "text": [
            "[1]\n",
            "1\n"
          ]
        },
        {
          "data": {
            "text/plain": [
              "(None, None)"
            ]
          },
          "execution_count": 44,
          "metadata": {},
          "output_type": "execute_result"
        }
      ],
      "source": [
        "print(y_pred[12]), print(y_test[12])"
      ]
    },
    {
      "cell_type": "code",
      "execution_count": 45,
      "metadata": {
        "colab": {
          "base_uri": "https://localhost:8080/",
          "height": 52
        },
        "id": "RXxzVeCQKZAJ",
        "outputId": "c9d92512-ec70-466f-c850-db26206d1157"
      },
      "outputs": [
        {
          "name": "stdout",
          "output_type": "stream",
          "text": [
            "[[104   2]\n",
            " [  8  83]]\n"
          ]
        }
      ],
      "source": [
        "# confusion matrix\n",
        "from sklearn.metrics import confusion_matrix, accuracy_score\n",
        "cm = confusion_matrix(y_test, y_pred)\n",
        "print(cm)"
      ]
    },
    {
      "cell_type": "code",
      "execution_count": 46,
      "metadata": {
        "colab": {
          "base_uri": "https://localhost:8080/",
          "height": 34
        },
        "id": "WXKHHA-wKzfQ",
        "outputId": "23f3ea86-8838-4014-f5a2-e3f581ee6615"
      },
      "outputs": [
        {
          "name": "stdout",
          "output_type": "stream",
          "text": [
            "0.949238578680203\n"
          ]
        }
      ],
      "source": [
        "acc_cm = accuracy_score(y_test, y_pred)\n",
        "print(acc_cm)"
      ]
    },
    {
      "cell_type": "markdown",
      "metadata": {
        "id": "TDzya8fbLGhY"
      },
      "source": [
        "# Step 6: Learning Curve"
      ]
    },
    {
      "cell_type": "code",
      "execution_count": 47,
      "metadata": {
        "id": "l3eS57AALJMB"
      },
      "outputs": [],
      "source": [
        "def learning_curve(history, epoch):\n",
        "\n",
        "  # training vs validation accuracy\n",
        "  epoch_range = range(1, epoch+1)\n",
        "  plt.plot(epoch_range, history.history['accuracy'])\n",
        "  plt.plot(epoch_range, history.history['val_accuracy'])\n",
        "  plt.title('Model Accuracy')\n",
        "  plt.ylabel('Accuracy')\n",
        "  plt.xlabel('Epoch')\n",
        "  plt.legend(['Train', 'val'], loc='upper left')\n",
        "  plt.show()\n",
        "\n",
        "  # training vs validation loss\n",
        "  plt.plot(epoch_range, history.history['loss'])\n",
        "  plt.plot(epoch_range, history.history['val_loss'])\n",
        "  plt.title('Model Loss')\n",
        "  plt.ylabel('Loss')\n",
        "  plt.xlabel('Epoch')\n",
        "  plt.legend(['Train', 'val'], loc='upper left')\n",
        "  plt.show()"
      ]
    },
    {
      "cell_type": "code",
      "execution_count": 48,
      "metadata": {
        "colab": {
          "base_uri": "https://localhost:8080/",
          "height": 573
        },
        "id": "T1nBZ9-aLZxr",
        "outputId": "9c80c9dd-e02c-4418-aa4e-81753f308085"
      },
      "outputs": [
        {
          "data": {
            "image/png": "[encoded data removed]",
            "text/plain": [
              "<Figure size 640x480 with 1 Axes>"
            ]
          },
          "metadata": {},
          "output_type": "display_data"
        },
        {
          "data": {
            "image/png": "[encoded data removed]",
            "text/plain": [
              "<Figure size 640x480 with 1 Axes>"
            ]
          },
          "metadata": {},
          "output_type": "display_data"
        }
      ],
      "source": [
        "learning_curve(history, 25)"
      ]
    }
  ],
  "metadata": {
    "colab": {
      "provenance": [],
      "toc_visible": true
    },
    "kernelspec": {
      "display_name": "Python 3",
      "name": "python3"
    },
    "language_info": {
      "codemirror_mode": {
        "name": "ipython",
        "version": 3
      },
      "file_extension": ".py",
      "mimetype": "text/x-python",
      "name": "python",
      "nbconvert_exporter": "python",
      "pygments_lexer": "ipython3",
      "version": "3.11.4"
    }
  },
  "nbformat": 4,
  "nbformat_minor": 0
}
